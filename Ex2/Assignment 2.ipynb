{
 "cells": [
  {
   "cell_type": "code",
   "execution_count": 85,
   "metadata": {},
   "outputs": [],
   "source": [
    "import pandas as pd\n",
    "from pathlib import Path\n",
    "import os\n",
    "import glob\n",
    "import numpy as np\n",
    "import re\n",
    "\n",
    "def fetch_files(path, ftype = 'jpg'):\n",
    "    p = Path(path)\n",
    "    files = list(p.glob('**/*.'+ftype))\n",
    "    #classes = str(files).split('/')\n",
    "    #classes = [classes[i] for i in list(range(2,len(classes),3)) ]\n",
    "    #classnames, indices = np.unique(classes, return_inverse=True)\n",
    "    #dict_classes = dict(zip(classnames, list(range(0,len(classes)))))\n",
    "    return files\n",
    "\n",
    "def read_txt(path):\n",
    "    frame = pd.read_csv(path, sep = \"\\t\", header = None , names = [\"x1\",\"y1\",\"x2\",\"y2\",\"class_name\"])\n",
    "    fnames = pd.DataFrame({\"file_name\" : np.repeat(re.sub(r\"keras-frcnn/\",\"\",re.sub(r\".txt\", \".png\", path)), len(frame))})\n",
    "    final = pd.concat([fnames, frame], axis = 1)\n",
    "    return final"
   ]
  },
  {
   "cell_type": "code",
   "execution_count": 87,
   "metadata": {},
   "outputs": [
    {
     "data": {
      "text/plain": [
       "['keras-frcnn\\\\imgs\\\\test_1.txt',\n",
       " 'keras-frcnn\\\\imgs\\\\test_10.txt',\n",
       " 'keras-frcnn\\\\imgs\\\\test_2.txt',\n",
       " 'keras-frcnn\\\\imgs\\\\test_3.txt',\n",
       " 'keras-frcnn\\\\imgs\\\\test_4.txt',\n",
       " 'keras-frcnn\\\\imgs\\\\test_5.txt',\n",
       " 'keras-frcnn\\\\imgs\\\\test_6.txt',\n",
       " 'keras-frcnn\\\\imgs\\\\test_7.txt',\n",
       " 'keras-frcnn\\\\imgs\\\\test_8.txt',\n",
       " 'keras-frcnn\\\\imgs\\\\test_9.txt']"
      ]
     },
     "execution_count": 87,
     "metadata": {},
     "output_type": "execute_result"
    }
   ],
   "source": [
    "files = glob.glob(\"*/imgs/*.txt\")\n",
    "files2 = [read_txt(i) for i in files]\n",
    "#pd.read_csv(\"out/test_1.txt\", sep = \"\\t\", header = None , names = [\"class_name\",\"class\",\"y1\",\"x1\",\"y2\",\"x2\"])\n",
    "files2 = pd.concat(files2)\n",
    "#files[\"names\"] = np.repeat(3, 310)\n",
    "#files.to_csv('keras-frcnn/annotate.txt', header=None, index=None, sep=',')\n",
    "files"
   ]
  },
  {
   "cell_type": "code",
   "execution_count": 5,
   "metadata": {},
   "outputs": [
    {
     "ename": "TypeError",
     "evalue": "'module' object is not callable",
     "output_type": "error",
     "traceback": [
      "\u001b[1;31m---------------------------------------------------------------------------\u001b[0m",
      "\u001b[1;31mTypeError\u001b[0m                                 Traceback (most recent call last)",
      "\u001b[1;32m<ipython-input-5-09428180e885>\u001b[0m in \u001b[0;36m<module>\u001b[1;34m()\u001b[0m\n\u001b[1;32m----> 1\u001b[1;33m \u001b[0mPath\u001b[0m\u001b[1;33m(\u001b[0m\u001b[1;33m)\u001b[0m\u001b[1;33m\u001b[0m\u001b[0m\n\u001b[0m",
      "\u001b[1;31mTypeError\u001b[0m: 'module' object is not callable"
     ]
    }
   ],
   "source": [
    "def initialize(backgrounds_dir, classes_dir):\n",
    "    # Loading data\n",
    "    backgrounds = os.listdir(backgrounds_dir)\n",
    "    class_names = os.listdir(classes_dir)\n",
    "    class_objects = [os.listdir(os.path.join(classes_dir,c)) for c in class_names]\n",
    "\n",
    "    # ignore scaling for now: .resize(resolution, Image.BICUBIC)\n",
    "    bgs = [Image.open(os.path.join(backgrounds_dir,b)) for b in backgrounds]\n",
    "\n",
    "    objs = []\n",
    "    for i,c in enumerate(class_objects):\n",
    "        print('loading '+class_names[i]+' as '+str(i))\n",
    "        objs = objs + [[Image.open(os.path.join(classes_dir,class_names[i],o)) for o in c]]\n",
    "\n",
    "    return objs, class_names, bgs"
   ]
  },
  {
   "cell_type": "code",
   "execution_count": 78,
   "metadata": {},
   "outputs": [
    {
     "data": {
      "text/plain": [
       "array([[[10, 12, 12],\n",
       "        [10, 12, 12],\n",
       "        [10, 12, 12],\n",
       "        ...,\n",
       "        [14, 26, 30],\n",
       "        [14, 26, 30],\n",
       "        [13, 25, 29]],\n",
       "\n",
       "       [[10, 12, 12],\n",
       "        [10, 12, 12],\n",
       "        [10, 12, 12],\n",
       "        ...,\n",
       "        [14, 26, 30],\n",
       "        [14, 26, 30],\n",
       "        [14, 26, 30]],\n",
       "\n",
       "       [[10, 12, 12],\n",
       "        [10, 12, 12],\n",
       "        [10, 12, 12],\n",
       "        ...,\n",
       "        [14, 26, 30],\n",
       "        [15, 27, 31],\n",
       "        [15, 27, 31]],\n",
       "\n",
       "       ...,\n",
       "\n",
       "       [[12, 14, 15],\n",
       "        [11, 13, 14],\n",
       "        [11, 13, 14],\n",
       "        ...,\n",
       "        [14, 28, 34],\n",
       "        [14, 28, 34],\n",
       "        [14, 28, 34]],\n",
       "\n",
       "       [[12, 14, 15],\n",
       "        [12, 14, 15],\n",
       "        [11, 13, 14],\n",
       "        ...,\n",
       "        [14, 28, 34],\n",
       "        [14, 28, 34],\n",
       "        [14, 28, 34]],\n",
       "\n",
       "       [[12, 14, 15],\n",
       "        [12, 14, 15],\n",
       "        [11, 13, 14],\n",
       "        ...,\n",
       "        [14, 28, 34],\n",
       "        [14, 28, 34],\n",
       "        [14, 28, 34]]], dtype=uint8)"
      ]
     },
     "execution_count": 78,
     "metadata": {},
     "output_type": "execute_result"
    }
   ],
   "source": [
    "import cv2\n",
    "img = cv2.imread(\"\\keras-frcnn\\imgs\\test_1.png\")\n",
    "#(rows,cols) = img.shape[:2]\n",
    "cv2.imread(\"keras-frcnn/imgs/test_1.png\")\n"
   ]
  },
  {
   "cell_type": "code",
   "execution_count": null,
   "metadata": {},
   "outputs": [],
   "source": [
    "2"
   ]
  },
  {
   "cell_type": "code",
   "execution_count": null,
   "metadata": {},
   "outputs": [],
   "source": []
  }
 ],
 "metadata": {
  "kernelspec": {
   "display_name": "Python 3",
   "language": "python",
   "name": "python3"
  },
  "language_info": {
   "codemirror_mode": {
    "name": "ipython",
    "version": 3
   },
   "file_extension": ".py",
   "mimetype": "text/x-python",
   "name": "python",
   "nbconvert_exporter": "python",
   "pygments_lexer": "ipython3",
   "version": "3.5.4"
  }
 },
 "nbformat": 4,
 "nbformat_minor": 2
}
