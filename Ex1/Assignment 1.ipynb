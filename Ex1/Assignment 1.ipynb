{
 "cells": [
  {
   "cell_type": "markdown",
   "metadata": {},
   "source": [
    "Dealing with class imbalance:\n",
    "- resampling techniques\n",
    "    - under or over sampling random vs informed\n",
    "    - SMOTE synthetic minor ...\n",
    "- kappa statistics/ MCC Metric\n",
    "- multiclass mcc \"comparing two k-category assignments by a k-category correlation coeeficient\"\n",
    "\n",
    "\n",
    "spatial pyramid pooling in deep convolutional networks for visual recognition"
   ]
  },
  {
   "cell_type": "code",
   "execution_count": 1,
   "metadata": {},
   "outputs": [
    {
     "name": "stderr",
     "output_type": "stream",
     "text": [
      "Using TensorFlow backend.\n"
     ]
    }
   ],
   "source": [
    "from keras import optimizers\n",
    "from keras.models import Sequential\n",
    "from keras.layers import Dense, Activation, Flatten\n",
    "from keras.layers import Conv2D, MaxPooling2D\n",
    "from keras import regularizers\n",
    "from pathlib import Path\n",
    "import keras\n",
    "import random\n",
    "from keras.utils import Sequence\n",
    "import skimage\n",
    "from skimage.io import imread\n",
    "from skimage.transform import resize\n",
    "import numpy as np"
   ]
  },
  {
   "cell_type": "code",
   "execution_count": 46,
   "metadata": {},
   "outputs": [],
   "source": [
    "class MY_Gen(Sequence):\n",
    "\n",
    "    def __init__(self, image_filenames, labels, batch_size, shuffle):\n",
    "        self.image_filenames, self.labels = image_filenames, labels\n",
    "        self.batch_size = batch_size\n",
    "        self.num_labels = len(np.unique(labels))\n",
    "        self.shuffle = shuffle\n",
    "        self.on_epoch_end()\n",
    "\n",
    "    def __len__(self):\n",
    "        return int(np.ceil(len(self.image_filenames) / float(self.batch_size)))\n",
    "    \n",
    "    def __norm_im(self, filename, dim):\n",
    "        image = imread(filename)\n",
    "        image = resize(image, (dim,dim), anti_aliasing = True, mode = \"reflect\")\n",
    "        image = skimage.color.gray2rgb(image)\n",
    "\n",
    "        return image\n",
    "\n",
    "    def __getitem__(self, idx):\n",
    "        batch_x = self.image_filenames[idx * self.batch_size:(idx + 1) * self.batch_size]\n",
    "        batch_y = self.labels[idx * self.batch_size:(idx + 1) * self.batch_size]\n",
    "        image = [self.__norm_im(filename, 299) for filename in batch_x]\n",
    "        image = (image-np.amin(image))/(np.amax(image)-np.amin(image))\n",
    "        batch_y = keras.utils.to_categorical(batch_y, self.num_labels)\n",
    "        return np.array(image), np.array(batch_y)\n",
    "    \n",
    "    def on_epoch_end(self):\n",
    "        if self.shuffle == True:\n",
    "            fnames_and_labels = list(zip(self.image_filenames, self.labels))\n",
    "            random.shuffle(fnames_and_labels)\n",
    "            self.image_filenames, self.labels = zip(*fnames_and_labels)"
   ]
  },
  {
   "cell_type": "code",
   "execution_count": 2,
   "metadata": {},
   "outputs": [],
   "source": [
    "\n",
    "p = Path('./data/test/') \n",
    "files = list(p.glob('**/*.jpg'))\n",
    "#files = str(files).split(\"'\")\n",
    "#files = [ files[i] for i in list(range(1,len(files),2)) ]\n",
    "classes = str(files).split('/')\n",
    "classes = [ classes[i] for i in list(range(2,len(classes),3)) ]\n",
    "c=list(zip(files,classes))\n",
    "#random.shuffle(c)\n",
    "files,classes = zip (*c)\n",
    "classnames, indices = np.unique(classes, return_inverse=True)\n",
    "labels = keras.utils.to_categorical(indices, len(np.unique(indices)))"
   ]
  },
  {
   "cell_type": "code",
   "execution_count": 3,
   "metadata": {},
   "outputs": [],
   "source": [
    "from sklearn.model_selection import train_test_split\n",
    "\n",
    "def split_data_train_validation_test(data_X, data_Y, test_percent, validation_percent, seed): \n",
    "    assert (test_percent < 1) and (0 < validation_percent) and (validation_percent < 1)\n",
    "    X_tmp, X_val, Y_tmp, Y_val = train_test_split(data_X, data_Y, test_size=validation_percent, shuffle=True, random_state=seed)\n",
    "    \n",
    "    if test_percent != 0:\n",
    "        relative_test_percent = test_percent / (1 - validation_percent)\n",
    "        X_train, X_test, Y_train, Y_test = train_test_split(X_tmp, Y_tmp, test_size=relative_test_percent, shuffle=True, random_state=seed)\n",
    "        split_data = [X_train, Y_train, X_val, Y_val, X_test, Y_test]\n",
    "    else:\n",
    "        X_train, Y_train = X_tmp, Y_tmp\n",
    "        split_data = [X_train, Y_train, X_val, Y_val]\n",
    "\n",
    "    return split_data\n",
    "\n",
    "split = split_data_train_validation_test(files, indices, 0, .25, 1190)"
   ]
  },
  {
   "cell_type": "code",
   "execution_count": 9,
   "metadata": {},
   "outputs": [
    {
     "name": "stdout",
     "output_type": "stream",
     "text": [
      "[(0, 75), (1, 78), (2, 72)]\n",
      "[(0, 78), (1, 78), (2, 78)]\n"
     ]
    }
   ],
   "source": [
    "from imblearn.over_sampling import RandomOverSampler\n",
    "ros = RandomOverSampler(random_state = 0)\n",
    "x_re, y_re = ros.fit_resample(np.array(split[0]).reshape(-1,1), split[1])\n",
    "from collections import Counter\n",
    "print(sorted(Counter(split[1]).items()))\n",
    "print(sorted(Counter(y_re).items()))"
   ]
  },
  {
   "cell_type": "code",
   "execution_count": 34,
   "metadata": {},
   "outputs": [
    {
     "data": {
      "text/plain": [
       "array([[255, 255, 255, ..., 255, 255, 255],\n",
       "       [255, 255, 255, ..., 255, 255, 255],\n",
       "       [255, 255, 255, ..., 238, 255, 255],\n",
       "       ...,\n",
       "       [236, 226, 218, ..., 255, 255, 255],\n",
       "       [255, 235, 235, ..., 255, 255, 255],\n",
       "       [241, 238, 255, ..., 255, 255, 255]], dtype=uint8)"
      ]
     },
     "execution_count": 34,
     "metadata": {},
     "output_type": "execute_result"
    }
   ],
   "source": [
    "from itertools import chain\n",
    "\n",
    "imread(list(chain(*x_re.tolist()))[0])\n"
   ]
  },
  {
   "cell_type": "code",
   "execution_count": 16,
   "metadata": {},
   "outputs": [
    {
     "ename": "TypeError",
     "evalue": "unhashable type: 'numpy.ndarray'",
     "output_type": "error",
     "traceback": [
      "\u001b[0;31m---------------------------------------------------------------------------\u001b[0m",
      "\u001b[0;31mTypeError\u001b[0m                                 Traceback (most recent call last)",
      "\u001b[0;32m<ipython-input-16-a512a4a96f52>\u001b[0m in \u001b[0;36m<module>\u001b[0;34m\u001b[0m\n\u001b[1;32m      4\u001b[0m \u001b[0mb\u001b[0m \u001b[0;34m=\u001b[0m \u001b[0;34m{\u001b[0m\u001b[0;34m}\u001b[0m\u001b[0;34m\u001b[0m\u001b[0m\n\u001b[1;32m      5\u001b[0m \u001b[0;32mfor\u001b[0m \u001b[0mi\u001b[0m \u001b[0;32min\u001b[0m \u001b[0mlist\u001b[0m\u001b[0;34m(\u001b[0m\u001b[0mnp\u001b[0m\u001b[0;34m.\u001b[0m\u001b[0marray\u001b[0m\u001b[0;34m(\u001b[0m\u001b[0mx_re\u001b[0m\u001b[0;34m)\u001b[0m\u001b[0;34m)\u001b[0m\u001b[0;34m:\u001b[0m\u001b[0;34m\u001b[0m\u001b[0m\n\u001b[0;32m----> 6\u001b[0;31m     \u001b[0mb\u001b[0m\u001b[0;34m[\u001b[0m\u001b[0mi\u001b[0m\u001b[0;34m]\u001b[0m \u001b[0;34m=\u001b[0m \u001b[0mb\u001b[0m\u001b[0;34m.\u001b[0m\u001b[0mget\u001b[0m\u001b[0;34m(\u001b[0m\u001b[0mi\u001b[0m\u001b[0;34m,\u001b[0m\u001b[0;36m0\u001b[0m\u001b[0;34m)\u001b[0m \u001b[0;34m+\u001b[0m \u001b[0;36m1\u001b[0m\u001b[0;34m\u001b[0m\u001b[0m\n\u001b[0m\u001b[1;32m      7\u001b[0m \u001b[0;34m\u001b[0m\u001b[0m\n\u001b[1;32m      8\u001b[0m \u001b[0mdict\u001b[0m\u001b[0;34m(\u001b[0m\u001b[0;34m(\u001b[0m\u001b[0mk\u001b[0m\u001b[0;34m,\u001b[0m \u001b[0mv\u001b[0m\u001b[0;34m)\u001b[0m \u001b[0;32mfor\u001b[0m \u001b[0mk\u001b[0m\u001b[0;34m,\u001b[0m \u001b[0mv\u001b[0m \u001b[0;32min\u001b[0m \u001b[0mb\u001b[0m\u001b[0;34m.\u001b[0m\u001b[0mitems\u001b[0m\u001b[0;34m(\u001b[0m\u001b[0;34m)\u001b[0m \u001b[0;32mif\u001b[0m \u001b[0mv\u001b[0m \u001b[0;34m>\u001b[0m \u001b[0;36m1\u001b[0m\u001b[0;34m)\u001b[0m\u001b[0;34m\u001b[0m\u001b[0m\n",
      "\u001b[0;31mTypeError\u001b[0m: unhashable type: 'numpy.ndarray'"
     ]
    }
   ],
   "source": [
    "#import keras_metrics\n",
    "#metrics=[keras_metrics.precision(), keras_metrics.recall()\n",
    "b = {}\n",
    "for i in list(np.array(x_re)):\n",
    "    b[i] = b.get(i,0) + 1\n",
    "\n",
    "dict((k, v) for k, v in b.items() if v > 1)\n",
    "\n",
    "#x_re"
   ]
  },
  {
   "cell_type": "code",
   "execution_count": 48,
   "metadata": {},
   "outputs": [],
   "source": [
    "from keras.applications.inception_v3 import InceptionV3\n",
    "from keras.preprocessing import image\n",
    "from keras.models import Model\n",
    "from keras.layers import Dense, GlobalAveragePooling2D\n",
    "from keras import backend as K\n",
    "\n",
    "base_model = InceptionV3(weights='imagenet', include_top=False)\n",
    "\n",
    "\n",
    "x = base_model.output\n",
    "x = GlobalAveragePooling2D()(x)\n",
    "\n",
    "x = Dense(1024, activation='relu')(x)\n",
    "\n",
    "predictions = Dense(3, activation='softmax')(x)\n",
    "\n",
    "model = Model(inputs=base_model.input, outputs=predictions)\n",
    "\n",
    "for layer in base_model.layers:\n",
    "    layer.trainable = False\n",
    "\n"
   ]
  },
  {
   "cell_type": "code",
   "execution_count": 49,
   "metadata": {},
   "outputs": [
    {
     "name": "stdout",
     "output_type": "stream",
     "text": [
      "shuffled\n",
      "Epoch 1/10\n",
      " 9/10 [==========================>...] - ETA: 2s - loss: 2.0478 - acc: 0.3370shuffled\n",
      "10/10 [==============================] - 23s 2s/step - loss: 1.8769 - acc: 0.4000\n",
      "Epoch 2/10\n",
      " 9/10 [==========================>...] - ETA: 0s - loss: 0.4205 - acc: 0.8556shuffled\n",
      "10/10 [==============================] - 3s 326ms/step - loss: 0.4006 - acc: 0.8633\n",
      "Epoch 3/10\n",
      " 9/10 [==========================>...] - ETA: 0s - loss: 0.2163 - acc: 0.9333shuffled\n",
      "10/10 [==============================] - 3s 337ms/step - loss: 0.2063 - acc: 0.9367\n",
      "Epoch 4/10\n",
      " 9/10 [==========================>...] - ETA: 0s - loss: 0.0891 - acc: 0.9778shuffled\n",
      "10/10 [==============================] - 3s 332ms/step - loss: 0.0941 - acc: 0.9733\n",
      "Epoch 5/10\n",
      " 9/10 [==========================>...] - ETA: 0s - loss: 0.0389 - acc: 0.9963shuffled\n",
      "10/10 [==============================] - 3s 336ms/step - loss: 0.0418 - acc: 0.9933\n",
      "Epoch 6/10\n",
      " 9/10 [==========================>...] - ETA: 0s - loss: 0.0421 - acc: 0.9889shuffled\n",
      "10/10 [==============================] - 3s 336ms/step - loss: 0.0401 - acc: 0.9900\n",
      "Epoch 7/10\n",
      " 9/10 [==========================>...] - ETA: 0s - loss: 0.0531 - acc: 0.9852shuffled\n",
      "10/10 [==============================] - 3s 325ms/step - loss: 0.0581 - acc: 0.9767\n",
      "Epoch 8/10\n",
      "10/10 [==============================] - 3s 330ms/step - loss: 0.0268 - acc: 0.9967\n",
      "Epoch 9/10\n",
      "shuffled\n",
      " 9/10 [==========================>...] - ETA: 0s - loss: 0.0367 - acc: 0.9963shuffled\n",
      "10/10 [==============================] - 3s 341ms/step - loss: 0.0360 - acc: 0.9967\n",
      "Epoch 10/10\n",
      " 9/10 [==========================>...] - ETA: 0s - loss: 0.0447 - acc: 0.9889shuffled\n",
      "10/10 [==============================] - 3s 332ms/step - loss: 0.0405 - acc: 0.9900\n"
     ]
    },
    {
     "data": {
      "text/plain": [
       "<keras.callbacks.History at 0x7fdc3c4755f8>"
      ]
     },
     "execution_count": 49,
     "metadata": {},
     "output_type": "execute_result"
    }
   ],
   "source": [
    "batch_size=30\n",
    "num_training_samples=len(files)\n",
    "\n",
    "my_training_batch_generator = MY_Gen(files, indices, batch_size, shuffle = True)\n",
    "model.compile(optimizer='adam', loss='categorical_crossentropy', metrics = ['accuracy'])\n",
    "\n",
    "model.fit_generator(generator=my_training_batch_generator,\n",
    "                                          steps_per_epoch=(num_training_samples // batch_size),\n",
    "                                          epochs=10,\n",
    "                                          verbose=1,\n",
    "                                          use_multiprocessing=False,\n",
    "                                          workers=16,\n",
    "                                          max_queue_size=32)\n",
    "\n"
   ]
  },
  {
   "cell_type": "code",
   "execution_count": 13,
   "metadata": {},
   "outputs": [],
   "source": [
    "json_string = model.to_json()\n",
    "with open(\"INC_test.json\", \"w\") as json_file:\n",
    "    json_file.write(json_string)\n",
    "\n",
    "model.save_weights(\"INC_test_weights.hdf5\")"
   ]
  },
  {
   "cell_type": "code",
   "execution_count": null,
   "metadata": {},
   "outputs": [],
   "source": [
    "import tensorflow as tf\n",
    "outputTensor = model.output\n",
    "listOfVariableTensors = model.trainable_weights\n",
    "gradients = K.gradients(outputTensor, listOfVariableTensors)\n",
    "\n",
    "trainingExample = np.random.random((1,299,299,3))\n",
    "sess = K.get_session()\n",
    "sess.run(tf.initialize_all_variables())\n",
    "evaluated_gradients = sess.run(gradients,feed_dict={model.input:trainingExample})"
   ]
  },
  {
   "cell_type": "code",
   "execution_count": null,
   "metadata": {},
   "outputs": [],
   "source": [
    "(evaluated_gradients)"
   ]
  },
  {
   "cell_type": "code",
   "execution_count": null,
   "metadata": {},
   "outputs": [],
   "source": [
    "#im=np.asarray(Image.open(files[1]).resize([299,299]))\n",
    "#im = im/np.amax(im)\n",
    "#import matplotlib.pyplot as plt\n",
    "#plt.imshow(image[7])\n",
    "#plt.show()\n",
    "#ind = np.arange(105)\n",
    "#isinstance(classes, list)\n",
    "#len(classes)\n",
    "import random\n",
    "c=list(zip(files,classes))\n",
    "random.shuffle(c)\n",
    "files,classes = zip (*c)"
   ]
  },
  {
   "cell_type": "code",
   "execution_count": null,
   "metadata": {},
   "outputs": [],
   "source": [
    "import skimage\n",
    "im = resize(imread(files[1]), (100, 100))\n",
    "im = skimage.color.gray2rgb(im)\n",
    "im.shape"
   ]
  },
  {
   "cell_type": "code",
   "execution_count": null,
   "metadata": {},
   "outputs": [],
   "source": [
    "#im = np.array([(Image.open(file_name).resize([299,299])) for file_name in files])\n",
    "#im2 = np.array([\n",
    "           # resize(imread(file_name), (299, 299))\n",
    "            #   for file_name in files])\n",
    "#len(im2)\n",
    "#im2.shape\n",
    "#im.shape\n",
    "def norm_im(filename, dim):\n",
    "    image = imread(filename)\n",
    "    image = resize(image, (dim,dim), mode = \"edge\")\n",
    "    image = (image-np.amin(image))/(np.amax(image)-np.amin(image))\n",
    "    return image\n",
    "image = np.array([norm_im(filename, 100) for filename in files])\n",
    "\n",
    "\n",
    "image.shape"
   ]
  },
  {
   "cell_type": "code",
   "execution_count": 33,
   "metadata": {},
   "outputs": [
    {
     "data": {
      "text/plain": [
       "3"
      ]
     },
     "execution_count": 33,
     "metadata": {},
     "output_type": "execute_result"
    }
   ],
   "source": [
    "#files[range(1,10)]\n",
    "list(indices)\n",
    "keras.utils.to_categorical(indices, 5)\n",
    "len(np.unique(indices))"
   ]
  },
  {
   "cell_type": "code",
   "execution_count": null,
   "metadata": {},
   "outputs": [],
   "source": [
    "from keras.applications.inception_v3 import InceptionV3\n",
    "from keras.preprocessing import image\n",
    "from keras.models import Model\n",
    "from keras.layers import Dense, GlobalAveragePooling2D\n",
    "from keras import backend as K\n",
    "\n",
    "# create the base pre-trained model\n",
    "base_model = InceptionV3(weights='imagenet', include_top=False)\n",
    "\n",
    "# add a global spatial average pooling layer\n",
    "x = base_model.output\n",
    "x = GlobalAveragePooling2D()(x)\n",
    "# let's add a fully-connected layer\n",
    "x = Dense(1024, activation='relu')(x)\n",
    "# and a logistic layer -- let's say we have 200 classes\n",
    "predictions = Dense(3, activation='softmax')(x)\n",
    "\n",
    "# this is the model we will train\n",
    "model = Model(inputs=base_model.input, outputs=predictions)\n",
    "\n",
    "# first: train only the top layers (which were randomly initialized)\n",
    "# i.e. freeze all convolutional InceptionV3 layers\n",
    "for layer in base_model.layers:\n",
    "    layer.trainable = False\n",
    "\n",
    "# compile the model (should be done *after* setting layers to non-trainable)\n",
    "# model.compile(optimizer='rmsprop', loss='categorical_crossentropy')\n",
    "\n",
    "\n"
   ]
  },
  {
   "cell_type": "code",
   "execution_count": null,
   "metadata": {},
   "outputs": [],
   "source": [
    "batch_size=100\n",
    "num_training_samples=len(files)\n",
    "# compile the model (should be done *after* setting layers to non-trainable)\n",
    "my_training_batch_generator = MY_Gen(files, labels, batch_size)\n",
    "model.compile(optimizer='rmsprop', loss='categorical_crossentropy', metrics = ['accuracy'])\n",
    "# train the model on the new data for a few epochs\n",
    "model.fit_generator(generator=my_training_batch_generator,\n",
    "                                          steps_per_epoch=(num_training_samples // batch_size),\n",
    "                                          epochs=10,\n",
    "                                          verbose=1,\n",
    "                                          use_multiprocessing=False,\n",
    "                                          workers=16,\n",
    "                                          max_queue_size=32,\n",
    "                             shuffle = True)\n",
    "\n",
    "# at this point, the top layers are well trained and we can start fine-tuning\n",
    "# convolutional layers from inception V3. We will freeze the bottom N layers\n",
    "# and train the remaining top layers.\n",
    "\n"
   ]
  },
  {
   "cell_type": "code",
   "execution_count": null,
   "metadata": {},
   "outputs": [],
   "source": [
    "# let's visualize layer names and layer indices to see how many layers\n",
    "# we should freeze:\n",
    "for i, layer in enumerate(base_model.layers):\n",
    "   print(i, layer.name)\n",
    "\n",
    "# we chose to train the top 2 inception blocks, i.e. we will freeze\n",
    "# the first 249 layers and unfreeze the rest:\n",
    "for layer in model.layers[:249]:\n",
    "   layer.trainable = False\n",
    "for layer in model.layers[249:]:\n",
    "   layer.trainable = True\n",
    "\n",
    "# we need to recompile the model for these modifications to take effect\n",
    "# we use SGD with a low learning rate\n",
    "from keras.optimizers import SGD\n",
    "model.compile(optimizer=SGD(lr=0.0001, momentum=0.9), loss='categorical_crossentropy')\n",
    "\n",
    "# we train our model again (this time fine-tuning the top 2 inception blocks\n",
    "# alongside the top Dense layers\n",
    "model.fit_generator(...)"
   ]
  },
  {
   "cell_type": "code",
   "execution_count": null,
   "metadata": {},
   "outputs": [],
   "source": [
    "from pathlib import Path\n",
    "p = Path('./data/imgs/') \n",
    "classes = [x for x in p.iterdir() if x.is_dir()]\n",
    "files = list(p.glob('**/*.jpg'))"
   ]
  },
  {
   "cell_type": "code",
   "execution_count": null,
   "metadata": {},
   "outputs": [],
   "source": [
    "str(files[200000])"
   ]
  },
  {
   "cell_type": "code",
   "execution_count": null,
   "metadata": {},
   "outputs": [],
   "source": [
    "# euc laptop\n",
    "from pathlib import Path\n",
    "p = Path('./data/') \n",
    "#classes = [x for x in p.iterdir() if x.is_dir()]\n",
    "files = list(p.glob('**/*.png'))\n",
    "classes = str(files).split('/')\n",
    "classes = [ classes[i] for i in list(range(1,len(classes),2)) ]"
   ]
  },
  {
   "cell_type": "code",
   "execution_count": null,
   "metadata": {},
   "outputs": [],
   "source": [
    "import matplotlib.pyplot as plt\n",
    "#plt.imshow(plt.imread(str(files[1])))\n",
    "#plt.show()"
   ]
  },
  {
   "cell_type": "code",
   "execution_count": null,
   "metadata": {},
   "outputs": [],
   "source": [
    "from PIL import Image\n",
    "im = Image.open(str(files[1])).resize([28,28])\n",
    "#im = im.resize([28,50])\n",
    "plt.imshow(im)\n",
    "plt.show()"
   ]
  },
  {
   "cell_type": "code",
   "execution_count": null,
   "metadata": {},
   "outputs": [],
   "source": [
    "import numpy as np\n",
    "im = np.asarray(im)\n",
    "im.shape"
   ]
  },
  {
   "cell_type": "code",
   "execution_count": null,
   "metadata": {},
   "outputs": [],
   "source": [
    "import keras\n",
    "keras.utils.to_categorical(classes, len(np.unique(classes)))"
   ]
  },
  {
   "cell_type": "code",
   "execution_count": null,
   "metadata": {},
   "outputs": [],
   "source": [
    "classnames, indices = np.unique(classes, return_inverse=True)\n",
    "keras.utils.to_categorical(indices, len(np.unique(indices)))"
   ]
  },
  {
   "cell_type": "code",
   "execution_count": null,
   "metadata": {},
   "outputs": [],
   "source": [
    "from PIL import Image"
   ]
  },
  {
   "cell_type": "code",
   "execution_count": null,
   "metadata": {},
   "outputs": [],
   "source": [
    "model.summary()"
   ]
  }
 ],
 "metadata": {
  "kernelspec": {
   "display_name": "Python 3",
   "language": "python",
   "name": "python3"
  },
  "language_info": {
   "codemirror_mode": {
    "name": "ipython",
    "version": 3
   },
   "file_extension": ".py",
   "mimetype": "text/x-python",
   "name": "python",
   "nbconvert_exporter": "python",
   "pygments_lexer": "ipython3",
   "version": "3.5.3"
  }
 },
 "nbformat": 4,
 "nbformat_minor": 2
}
