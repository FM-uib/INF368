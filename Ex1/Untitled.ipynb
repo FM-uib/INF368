{
 "cells": [
  {
   "cell_type": "code",
   "execution_count": 11,
   "metadata": {},
   "outputs": [],
   "source": [
    "from keras.utils import Sequence\n",
    "from skimage.io import imread\n",
    "from skimage.transform import resize\n",
    "import numpy as np\n",
    "\n",
    "class MY_Generator(Sequence):\n",
    "\n",
    "    def __init__(self, image_filenames, labels, batch_size):\n",
    "        self.image_filenames, self.labels = image_filenames, labels\n",
    "        self.batch_size = batch_size\n",
    "\n",
    "    def __len__(self):\n",
    "        return int(np.ceil(len(self.image_filenames) / float(self.batch_size)))\n",
    "\n",
    "    def __getitem__(self, idx):\n",
    "        batch_x = self.image_filenames[idx * self.batch_size:(idx + 1) * self.batch_size]\n",
    "        batch_y = self.labels[idx * self.batch_size:(idx + 1) * self.batch_size]\n",
    "\n",
    "        return np.array([\n",
    "            resize(imread(file_name), (28, 28))\n",
    "               for file_name in batch_x]), np.array(batch_y)"
   ]
  },
  {
   "cell_type": "code",
   "execution_count": 48,
   "metadata": {},
   "outputs": [],
   "source": [
    "from keras.utils import Sequence\n",
    "class MY_Generator(Sequence):\n",
    "\n",
    "    def __init__(self, image_filenames, labels, batch_size):\n",
    "        self.image_filenames, self.labels = image_filenames, labels\n",
    "        self.batch_size = batch_size\n",
    "\n",
    "    def __len__(self):\n",
    "        return int(np.ceil(len(self.image_filenames) / float(self.batch_size)))\n",
    "\n",
    "    def __getitem__(self, idx):\n",
    "        batch_x = self.image_filenames[idx * self.batch_size:(idx + 1) * self.batch_size]\n",
    "        batch_y = self.labels[idx * self.batch_size:(idx + 1) * self.batch_size]\n",
    "        \n",
    "        image = [np.asarray(Image.open(file_name).resize([28,28])) for file_name in batch_x]\n",
    "        image = image/np.amax(image)\n",
    "\n",
    "        return np.array(image), np.array(batch_y)"
   ]
  },
  {
   "cell_type": "code",
   "execution_count": 55,
   "metadata": {},
   "outputs": [
    {
     "data": {
      "text/plain": [
       "5.3"
      ]
     },
     "execution_count": 55,
     "metadata": {},
     "output_type": "execute_result"
    }
   ],
   "source": [
    "106/20\n"
   ]
  },
  {
   "cell_type": "code",
   "execution_count": 36,
   "metadata": {},
   "outputs": [],
   "source": [
    "from keras import optimizers\n",
    "from keras.models import Sequential\n",
    "from keras.layers import Dense, Activation, Flatten\n",
    "from keras.layers import Conv2D, MaxPooling2D\n",
    "from keras import regularizers\n",
    "from pathlib import Path\n",
    "import keras\n",
    "import numpy as np\n",
    "from PIL import Image\n",
    "\n",
    "p = Path('./data/euc/') \n",
    "files = list(p.glob('**/*.png'))\n",
    "files = str(files).split(\"'\")\n",
    "files = [ files[i] for i in list(range(1,len(files),2)) ]\n",
    "classes = str(files).split('/')\n",
    "classes = [ classes[i] for i in list(range(2,len(classes),3)) ]\n",
    "classnames, indices = np.unique(classes, return_inverse=True)\n",
    "labels = keras.utils.to_categorical(indices, len(np.unique(indices)))"
   ]
  },
  {
   "cell_type": "code",
   "execution_count": 56,
   "metadata": {},
   "outputs": [
    {
     "data": {
      "text/plain": [
       "<__main__.MY_Generator at 0x7ff3f4ecd5f8>"
      ]
     },
     "execution_count": 56,
     "metadata": {},
     "output_type": "execute_result"
    }
   ],
   "source": [
    "my_training_batch_generator"
   ]
  },
  {
   "cell_type": "code",
   "execution_count": 54,
   "metadata": {},
   "outputs": [
    {
     "name": "stdout",
     "output_type": "stream",
     "text": [
      "Epoch 1/20\n",
      "\n",
      "1/1 [==============================] - 2s 2s/step - loss: 0.7869 - acc: 0.5094\n",
      "Epoch 2/20\n",
      "1/1 [==============================] - 0s 7ms/step - loss: 0.7804 - acc: 0.5189\n",
      "Epoch 3/20\n",
      "1/1 [==============================] - 1s 535ms/step - loss: 0.7723 - acc: 0.5566\n",
      "Epoch 4/20\n",
      "1/1 [==============================] - 1s 518ms/step - loss: 0.7633 - acc: 0.6038\n",
      "Epoch 5/20\n",
      "1/1 [==============================] - 1s 538ms/step - loss: 0.7540 - acc: 0.6415\n",
      "Epoch 6/20\n",
      "1/1 [==============================] - 1s 536ms/step - loss: 0.7453 - acc: 0.6981\n",
      "Epoch 7/20\n",
      "1/1 [==============================] - 1s 539ms/step - loss: 0.7365 - acc: 0.7075\n",
      "Epoch 8/20\n",
      "1/1 [==============================] - 1s 545ms/step - loss: 0.7273 - acc: 0.7264\n",
      "Epoch 9/20\n",
      "1/1 [==============================] - 1s 549ms/step - loss: 0.7177 - acc: 0.7453\n",
      "Epoch 10/20\n",
      "1/1 [==============================] - 1s 538ms/step - loss: 0.7081 - acc: 0.7453\n",
      "Epoch 11/20\n",
      "1/1 [==============================] - 1s 551ms/step - loss: 0.6984 - acc: 0.7547\n",
      "Epoch 12/20\n",
      "1/1 [==============================] - 1s 532ms/step - loss: 0.6888 - acc: 0.7358\n",
      "Epoch 13/20\n",
      "1/1 [==============================] - 1s 547ms/step - loss: 0.6790 - acc: 0.7453\n",
      "Epoch 14/20\n",
      "1/1 [==============================] - 1s 534ms/step - loss: 0.6693 - acc: 0.7547\n",
      "Epoch 15/20\n",
      "1/1 [==============================] - 1s 544ms/step - loss: 0.6593 - acc: 0.7642\n",
      "Epoch 16/20\n",
      "1/1 [==============================] - 1s 545ms/step - loss: 0.6488 - acc: 0.7736\n",
      "Epoch 17/20\n",
      "1/1 [==============================] - 1s 537ms/step - loss: 0.6383 - acc: 0.7736\n",
      "Epoch 18/20\n",
      "1/1 [==============================] - 1s 542ms/step - loss: 0.6275 - acc: 0.7830\n",
      "Epoch 19/20\n",
      "1/1 [==============================] - 1s 535ms/step - loss: 0.6169 - acc: 0.8019\n",
      "Epoch 20/20\n",
      "1/1 [==============================] - 1s 541ms/step - loss: 0.6063 - acc: 0.8113\n"
     ]
    }
   ],
   "source": [
    "batch_size = 106\n",
    "num_epochs = 20\n",
    "activation = \"relu\"\n",
    "LR = 0.01\n",
    "L2 = 0.001\n",
    "num_training_samples = 106\n",
    "\n",
    "my_training_batch_generator = MY_Generator(files, labels, batch_size)\n",
    "#my_validation_batch_generator = My_Generator(validation_filenames, GT_validation, batch_size)\n",
    "\n",
    "model = Sequential([\n",
    "    Flatten(input_shape = (28, 28, 3), name = \"flatten\"),\n",
    "    Dense(50, name = \"hidden_1\", kernel_regularizer=regularizers.l2(L2),),\n",
    "    Activation(activation, name = \"act_hidden_1\"),\n",
    "    Dense(2, name = \"out\"),\n",
    "    Activation(\"softmax\", name = \"act_out\")\n",
    "    ])\n",
    "\n",
    "sgd = optimizers.SGD(lr=LR, decay=1e-6, momentum=0.9, nesterov=True)\n",
    "model.compile(optimizer = sgd,\n",
    "             loss = \"categorical_crossentropy\",\n",
    "             metrics = [\"accuracy\"])\n",
    "\n",
    "history = model.fit_generator(generator=my_training_batch_generator,\n",
    "                                          steps_per_epoch=(num_training_samples // batch_size),\n",
    "                                          epochs=num_epochs,\n",
    "                                          verbose=1,\n",
    "                                          #validation_data=my_validation_batch_generator,\n",
    "                                          #validation_steps=(num_validation_samples // batch_size),\n",
    "                                          use_multiprocessing=True,\n",
    "                                          workers=16,\n",
    "                                          max_queue_size=32)"
   ]
  },
  {
   "cell_type": "code",
   "execution_count": null,
   "metadata": {},
   "outputs": [],
   "source": [
    "def simple_NN(x_train, y_train, x_valid, y_valid, L2 = 0.001, activation = \"relu\", LR = 0.01, batch_size = 64):\n",
    "    from keras import optimizers\n",
    "    model = Sequential([\n",
    "        Flatten(input_shape = (1,28, 28), name = \"flatten\"),\n",
    "        Dense(50, name = \"hidden_1\", kernel_regularizer=regularizers.l2(L2),),\n",
    "        Activation(activation, name = \"act_hidden_1\"),\n",
    "        Dense(10, name = \"out\"),\n",
    "        Activation(\"softmax\", name = \"act_out\")\n",
    "    ])\n",
    "    sgd = optimizers.SGD(lr=LR, decay=1e-6, momentum=0.9, nesterov=True)\n",
    "    model.compile(optimizer = sgd,\n",
    "             loss = \"categorical_crossentropy\",\n",
    "             metrics = [\"accuracy\"])\n",
    "    checkpoints = keras.callbacks.ModelCheckpoint(\"./checkpoints/model_{epoch:02d}.hdf5\", \n",
    "                                              monitor='val_loss', \n",
    "                                              verbose=0, \n",
    "                                              save_best_only=False, save_weights_only=False)\n",
    "    history = model.fit(x_train, y_train, \n",
    "                    epochs = 10, batch_size = batch_size, \n",
    "                    callbacks = [checkpoints], \n",
    "                    validation_data = (x_valid, y_valid))\n",
    "    return model, history"
   ]
  },
  {
   "cell_type": "code",
   "execution_count": null,
   "metadata": {},
   "outputs": [],
   "source": [
    "from pathlib import Path\n",
    "p = Path('./data/imgs/') \n",
    "classes = [x for x in p.iterdir() if x.is_dir()]\n",
    "files = list(p.glob('**/*.jpg'))"
   ]
  },
  {
   "cell_type": "code",
   "execution_count": null,
   "metadata": {},
   "outputs": [],
   "source": [
    "str(files[200000])"
   ]
  },
  {
   "cell_type": "code",
   "execution_count": null,
   "metadata": {},
   "outputs": [],
   "source": [
    "# euc laptop\n",
    "from pathlib import Path\n",
    "p = Path('./data/') \n",
    "#classes = [x for x in p.iterdir() if x.is_dir()]\n",
    "files = list(p.glob('**/*.png'))\n",
    "classes = str(files).split('/')\n",
    "classes = [ classes[i] for i in list(range(1,len(classes),2)) ]"
   ]
  },
  {
   "cell_type": "code",
   "execution_count": null,
   "metadata": {},
   "outputs": [],
   "source": [
    "import matplotlib.pyplot as plt\n",
    "plt.imshow(plt.imread(str(files[1])))\n",
    "plt.show()"
   ]
  },
  {
   "cell_type": "code",
   "execution_count": null,
   "metadata": {},
   "outputs": [],
   "source": [
    "from PIL import Image\n",
    "im = Image.open(str(files[1])).resize([28,28])\n",
    "#im = im.resize([28,50])\n",
    "plt.imshow(im)\n",
    "plt.show()"
   ]
  },
  {
   "cell_type": "code",
   "execution_count": null,
   "metadata": {},
   "outputs": [],
   "source": [
    "import numpy as np\n",
    "im = np.asarray(im)\n",
    "im.shape"
   ]
  },
  {
   "cell_type": "code",
   "execution_count": null,
   "metadata": {},
   "outputs": [],
   "source": [
    "import keras\n",
    "keras.utils.to_categorical(classes, len(np.unique(classes)))"
   ]
  },
  {
   "cell_type": "code",
   "execution_count": null,
   "metadata": {},
   "outputs": [],
   "source": [
    "classnames, indices = np.unique(classes, return_inverse=True)\n",
    "keras.utils.to_categorical(indices, len(np.unique(indices)))"
   ]
  },
  {
   "cell_type": "code",
   "execution_count": null,
   "metadata": {},
   "outputs": [],
   "source": [
    "files2[3]"
   ]
  },
  {
   "cell_type": "code",
   "execution_count": null,
   "metadata": {},
   "outputs": [],
   "source": []
  },
  {
   "cell_type": "code",
   "execution_count": null,
   "metadata": {},
   "outputs": [],
   "source": []
  }
 ],
 "metadata": {
  "kernelspec": {
   "display_name": "Python 3",
   "language": "python",
   "name": "python3"
  },
  "language_info": {
   "codemirror_mode": {
    "name": "ipython",
    "version": 3
   },
   "file_extension": ".py",
   "mimetype": "text/x-python",
   "name": "python",
   "nbconvert_exporter": "python",
   "pygments_lexer": "ipython3",
   "version": "3.5.3"
  }
 },
 "nbformat": 4,
 "nbformat_minor": 2
}
