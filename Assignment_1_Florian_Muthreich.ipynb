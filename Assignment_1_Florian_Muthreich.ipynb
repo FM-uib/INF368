{
 "cells": [
  {
   "cell_type": "markdown",
   "metadata": {},
   "source": [
    "### Florian Muthreich   ---   INF368   ---"
   ]
  },
  {
   "cell_type": "markdown",
   "metadata": {},
   "source": [
    "# Assignment 1"
   ]
  },
  {
   "cell_type": "markdown",
   "metadata": {},
   "source": [
    "load necessary packages"
   ]
  },
  {
   "cell_type": "code",
   "execution_count": 1,
   "metadata": {},
   "outputs": [
    {
     "name": "stderr",
     "output_type": "stream",
     "text": [
      "Using TensorFlow backend.\n"
     ]
    }
   ],
   "source": [
    "import matplotlib.pyplot as plt\n",
    "import keras\n",
    "import random\n",
    "import numpy as np"
   ]
  },
  {
   "cell_type": "markdown",
   "metadata": {},
   "source": [
    "Next I download the MNIST dataset. It is already split in test and training set and saved to variables. The images are stored separately from the labels in arrays."
   ]
  },
  {
   "cell_type": "code",
   "execution_count": 17,
   "metadata": {},
   "outputs": [],
   "source": [
    "from keras.datasets import mnist\n",
    "\n",
    "(x_train, y_train), (x_test, y_test) = mnist.load_data()"
   ]
  },
  {
   "cell_type": "markdown",
   "metadata": {},
   "source": [
    "The MNIST set has been downloaded and I can show the dimensions of the dataset.\n",
    "In total there are 70000 images of handwritten numbers. 60000 in the train set and 10000 in the test set. each image is 28 x 28 pixels and has only one channel, which means each cell indicates the intensity of a pixel. The labels are stored separately in their own array, which basically has the shape of a vector."
   ]
  },
  {
   "cell_type": "code",
   "execution_count": 3,
   "metadata": {},
   "outputs": [
    {
     "name": "stdout",
     "output_type": "stream",
     "text": [
      "Training set: (60000, 28, 28) , labels (60000,)\n",
      "Test set: (10000, 28, 28) , labels (10000,)\n"
     ]
    }
   ],
   "source": [
    "print(\"Training set:\",x_train.shape, \", labels\", y_train.shape)\n",
    "print(\"Test set:\",x_test.shape, \", labels\", y_test.shape)"
   ]
  },
  {
   "cell_type": "markdown",
   "metadata": {},
   "source": [
    "Here I plot 6 random images from the MNIST dataset. 3 from the train and 3 from the test set."
   ]
  },
  {
   "cell_type": "code",
   "execution_count": 4,
   "metadata": {
    "collapsed": true
   },
   "outputs": [
    {
     "data": {
      "image/png": "[encoded data removed]",
      "text/plain": [
       "<matplotlib.figure.Figure at 0x16bf5518>"
      ]
     },
     "metadata": {},
     "output_type": "display_data"
    },
    {
     "name": "stdout",
     "output_type": "stream",
     "text": [
      "Train-set img: 10400 label : 5\n"
     ]
    },
    {
     "data": {
      "image/png": "[encoded data removed]",
      "text/plain": [
       "<matplotlib.figure.Figure at 0x1c0f6a58>"
      ]
     },
     "metadata": {},
     "output_type": "display_data"
    },
    {
     "name": "stdout",
     "output_type": "stream",
     "text": [
      "Train-set img: 25405 label : 6\n"
     ]
    },
    {
     "data": {
      "image/png": "[encoded data removed]",
      "text/plain": [
       "<matplotlib.figure.Figure at 0x1c187be0>"
      ]
     },
     "metadata": {},
     "output_type": "display_data"
    },
    {
     "name": "stdout",
     "output_type": "stream",
     "text": [
      "Train-set img: 44369 label : 1\n"
     ]
    },
    {
     "data": {
      "image/png": "[encoded data removed]",
      "text/plain": [
       "<matplotlib.figure.Figure at 0x1c20cc50>"
      ]
     },
     "metadata": {},
     "output_type": "display_data"
    },
    {
     "name": "stdout",
     "output_type": "stream",
     "text": [
      "Test-set img: 3655 label : 2\n"
     ]
    },
    {
     "data": {
      "image/png": "[encoded data removed]",
      "text/plain": [
       "<matplotlib.figure.Figure at 0x1c2760b8>"
      ]
     },
     "metadata": {},
     "output_type": "display_data"
    },
    {
     "name": "stdout",
     "output_type": "stream",
     "text": [
      "Test-set img: 9615 label : 4\n"
     ]
    },
    {
     "data": {
      "image/png": "[encoded data removed]",
      "text/plain": [
       "<matplotlib.figure.Figure at 0x1c2d1240>"
      ]
     },
     "metadata": {},
     "output_type": "display_data"
    },
    {
     "name": "stdout",
     "output_type": "stream",
     "text": [
      "Test-set img: 147 label : 2\n"
     ]
    }
   ],
   "source": [
    "for x in range(6):\n",
    "    if x<3:\n",
    "        i = random.randint(1,x_train.shape[0])\n",
    "        img = plt.imshow(x_train[i])\n",
    "        plt.show()\n",
    "        print(\"Train-set img:\", i, \"label :\", y_train[i])\n",
    "    else:\n",
    "        i = random.randint(1,x_test.shape[0])\n",
    "        img = plt.imshow(x_test[i])\n",
    "        plt.show()\n",
    "        print(\"Test-set img:\", i, \"label :\", y_test[i])"
   ]
  },
  {
   "cell_type": "markdown",
   "metadata": {},
   "source": [
    "I defined a function to transform the training data into 4D vectors. The same function also converts the labels into one hot coded vectors. "
   ]
  },
  {
   "cell_type": "code",
   "execution_count": 18,
   "metadata": {},
   "outputs": [
    {
     "name": "stdout",
     "output_type": "stream",
     "text": [
      "Training set: (60000, 1, 28, 28) , labels (60000, 10)\n",
      "Test set: (10000, 1, 28, 28) , labels (10000, 10)\n"
     ]
    }
   ],
   "source": [
    "def res_rec(data, labels, channels):\n",
    "    tmp = data.reshape(data.shape[0], channels, data.shape[1], data.shape[2])\n",
    "    tmp = tmp.astype(\"float32\")\n",
    "    tmp = tmp/np.amax(x_train)\n",
    "    lbl = keras.utils.to_categorical(labels, len(np.unique(labels)))\n",
    "    return tmp, lbl\n",
    "\n",
    "x_train, y_train = res_rec(x_train, y_train, 1)\n",
    "x_test, y_test = res_rec(x_test, y_test, 1)\n",
    "\n",
    "print(\"Training set:\",x_train.shape, \", labels\", y_train.shape)\n",
    "print(\"Test set:\",x_test.shape, \", labels\", y_test.shape)"
   ]
  },
  {
   "cell_type": "markdown",
   "metadata": {},
   "source": [
    "This model has 1 hidden layer with 50 units. and a second layer with 10 softmax units. the number of parameters can be derived from this model. \n",
    "We have 784 input features \n",
    "number of weights between neurons\n",
    "784 * 50 39200\n",
    "50 * 10 500\n",
    "number of weights for bias\n",
    "50\n",
    "10"
   ]
  },
  {
   "cell_type": "code",
   "execution_count": 12,
   "metadata": {},
   "outputs": [
    {
     "name": "stdout",
     "output_type": "stream",
     "text": [
      "_________________________________________________________________\n",
      "Layer (type)                 Output Shape              Param #   \n",
      "=================================================================\n",
      "flatten_3 (Flatten)          (None, 784)               0         \n",
      "_________________________________________________________________\n",
      "dense_5 (Dense)              (None, 50)                39250     \n",
      "_________________________________________________________________\n",
      "activation_5 (Activation)    (None, 50)                0         \n",
      "_________________________________________________________________\n",
      "dense_6 (Dense)              (None, 10)                510       \n",
      "_________________________________________________________________\n",
      "activation_6 (Activation)    (None, 10)                0         \n",
      "=================================================================\n",
      "Total params: 39,760\n",
      "Trainable params: 39,760\n",
      "Non-trainable params: 0\n",
      "_________________________________________________________________\n"
     ]
    }
   ],
   "source": [
    "from keras.models import Sequential\n",
    "from keras.layers import Dense, Activation, Flatten\n",
    "\n",
    "model = Sequential([\n",
    "    Flatten(input_shape = (1,28, 28)),\n",
    "    Dense(50), #, input_shape = (784,)\n",
    "    Activation(\"sigmoid\"),\n",
    "    Dense(10),\n",
    "    Activation(\"softmax\")\n",
    "])\n",
    "\n",
    "model.summary()"
   ]
  },
  {
   "cell_type": "code",
   "execution_count": 19,
   "metadata": {},
   "outputs": [],
   "source": [
    "model.compile(optimizer = \"sgd\",\n",
    "             loss = \"categorical_crossentropy\",\n",
    "             metrics = [\"accuracy\"])\n",
    "\n",
    "#x_train = x_train.reshape(60000,784)\n",
    "\n",
    "ind = random.sample(range(x_train.shape[0]), int(1/12 * x_train.shape[0]))\n",
    "x_valid, y_valid = x_train[ind], y_train[ind]\n",
    "x_train, y_train = np.delete(x_train, ind, axis = 0), np.delete(y_train, ind, axis = 0)\n",
    "\n",
    "checkpoints = keras.callbacks.ModelCheckpoint(\"./checkpoints/model_{epoch:02d}.hdf5\", \n",
    "                                              monitor='val_loss', \n",
    "                                              verbose=0, \n",
    "                                              save_best_only=False, save_weights_only=False)\n"
   ]
  },
  {
   "cell_type": "code",
   "execution_count": 20,
   "metadata": {},
   "outputs": [
    {
     "name": "stdout",
     "output_type": "stream",
     "text": [
      "Train on 55000 samples, validate on 5000 samples\n",
      "Epoch 1/5\n",
      "55000/55000 [==============================] - 1s 26us/step - loss: 0.6049 - acc: 0.8629 - val_loss: 0.5649 - val_acc: 0.8756\n",
      "Epoch 2/5\n",
      "55000/55000 [==============================] - 1s 23us/step - loss: 0.5476 - acc: 0.8709 - val_loss: 0.5170 - val_acc: 0.8846\n",
      "Epoch 3/5\n",
      "55000/55000 [==============================] - 1s 25us/step - loss: 0.5057 - acc: 0.8773 - val_loss: 0.4816 - val_acc: 0.8874\n",
      "Epoch 4/5\n",
      "55000/55000 [==============================] - 1s 23us/step - loss: 0.4737 - acc: 0.8822 - val_loss: 0.4543 - val_acc: 0.8896\n",
      "Epoch 5/5\n",
      "55000/55000 [==============================] - 1s 27us/step - loss: 0.4486 - acc: 0.8859 - val_loss: 0.4321 - val_acc: 0.8922\n"
     ]
    }
   ],
   "source": [
    "trained = model.fit(x_train, y_train, \n",
    "                    epochs = 5, batch_size = 64, \n",
    "                    callbacks = [checkpoints], \n",
    "                    validation_data = (x_valid, y_valid))"
   ]
  },
  {
   "cell_type": "code",
   "execution_count": 22,
   "metadata": {},
   "outputs": [
    {
     "name": "stdout",
     "output_type": "stream",
     "text": [
      "10000/10000 [==============================] - 0s 10us/step\n"
     ]
    },
    {
     "data": {
      "text/html": [
       "<div>\n",
       "<style>\n",
       "    .dataframe thead tr:only-child th {\n",
       "        text-align: right;\n",
       "    }\n",
       "\n",
       "    .dataframe thead th {\n",
       "        text-align: left;\n",
       "    }\n",
       "\n",
       "    .dataframe tbody tr th {\n",
       "        vertical-align: top;\n",
       "    }\n",
       "</style>\n",
       "<table border=\"1\" class=\"dataframe\">\n",
       "  <thead>\n",
       "    <tr style=\"text-align: right;\">\n",
       "      <th>Predicted</th>\n",
       "      <th>0</th>\n",
       "      <th>1</th>\n",
       "      <th>2</th>\n",
       "      <th>3</th>\n",
       "      <th>4</th>\n",
       "      <th>5</th>\n",
       "      <th>6</th>\n",
       "      <th>7</th>\n",
       "      <th>8</th>\n",
       "      <th>9</th>\n",
       "      <th>All</th>\n",
       "    </tr>\n",
       "    <tr>\n",
       "      <th>Actual</th>\n",
       "      <th></th>\n",
       "      <th></th>\n",
       "      <th></th>\n",
       "      <th></th>\n",
       "      <th></th>\n",
       "      <th></th>\n",
       "      <th></th>\n",
       "      <th></th>\n",
       "      <th></th>\n",
       "      <th></th>\n",
       "      <th></th>\n",
       "    </tr>\n",
       "  </thead>\n",
       "  <tbody>\n",
       "    <tr>\n",
       "      <th>0</th>\n",
       "      <td>954</td>\n",
       "      <td>0</td>\n",
       "      <td>3</td>\n",
       "      <td>1</td>\n",
       "      <td>0</td>\n",
       "      <td>6</td>\n",
       "      <td>6</td>\n",
       "      <td>1</td>\n",
       "      <td>9</td>\n",
       "      <td>0</td>\n",
       "      <td>980</td>\n",
       "    </tr>\n",
       "    <tr>\n",
       "      <th>1</th>\n",
       "      <td>0</td>\n",
       "      <td>1084</td>\n",
       "      <td>6</td>\n",
       "      <td>4</td>\n",
       "      <td>0</td>\n",
       "      <td>0</td>\n",
       "      <td>4</td>\n",
       "      <td>2</td>\n",
       "      <td>35</td>\n",
       "      <td>0</td>\n",
       "      <td>1135</td>\n",
       "    </tr>\n",
       "    <tr>\n",
       "      <th>2</th>\n",
       "      <td>19</td>\n",
       "      <td>16</td>\n",
       "      <td>860</td>\n",
       "      <td>14</td>\n",
       "      <td>15</td>\n",
       "      <td>0</td>\n",
       "      <td>27</td>\n",
       "      <td>13</td>\n",
       "      <td>64</td>\n",
       "      <td>4</td>\n",
       "      <td>1032</td>\n",
       "    </tr>\n",
       "    <tr>\n",
       "      <th>3</th>\n",
       "      <td>6</td>\n",
       "      <td>2</td>\n",
       "      <td>22</td>\n",
       "      <td>882</td>\n",
       "      <td>1</td>\n",
       "      <td>23</td>\n",
       "      <td>4</td>\n",
       "      <td>14</td>\n",
       "      <td>43</td>\n",
       "      <td>13</td>\n",
       "      <td>1010</td>\n",
       "    </tr>\n",
       "    <tr>\n",
       "      <th>4</th>\n",
       "      <td>5</td>\n",
       "      <td>9</td>\n",
       "      <td>2</td>\n",
       "      <td>1</td>\n",
       "      <td>871</td>\n",
       "      <td>0</td>\n",
       "      <td>13</td>\n",
       "      <td>1</td>\n",
       "      <td>9</td>\n",
       "      <td>71</td>\n",
       "      <td>982</td>\n",
       "    </tr>\n",
       "    <tr>\n",
       "      <th>5</th>\n",
       "      <td>45</td>\n",
       "      <td>7</td>\n",
       "      <td>9</td>\n",
       "      <td>83</td>\n",
       "      <td>7</td>\n",
       "      <td>598</td>\n",
       "      <td>21</td>\n",
       "      <td>10</td>\n",
       "      <td>96</td>\n",
       "      <td>16</td>\n",
       "      <td>892</td>\n",
       "    </tr>\n",
       "    <tr>\n",
       "      <th>6</th>\n",
       "      <td>21</td>\n",
       "      <td>3</td>\n",
       "      <td>15</td>\n",
       "      <td>1</td>\n",
       "      <td>11</td>\n",
       "      <td>14</td>\n",
       "      <td>888</td>\n",
       "      <td>0</td>\n",
       "      <td>5</td>\n",
       "      <td>0</td>\n",
       "      <td>958</td>\n",
       "    </tr>\n",
       "    <tr>\n",
       "      <th>7</th>\n",
       "      <td>7</td>\n",
       "      <td>27</td>\n",
       "      <td>29</td>\n",
       "      <td>3</td>\n",
       "      <td>12</td>\n",
       "      <td>1</td>\n",
       "      <td>0</td>\n",
       "      <td>892</td>\n",
       "      <td>10</td>\n",
       "      <td>47</td>\n",
       "      <td>1028</td>\n",
       "    </tr>\n",
       "    <tr>\n",
       "      <th>8</th>\n",
       "      <td>12</td>\n",
       "      <td>7</td>\n",
       "      <td>13</td>\n",
       "      <td>29</td>\n",
       "      <td>9</td>\n",
       "      <td>10</td>\n",
       "      <td>13</td>\n",
       "      <td>10</td>\n",
       "      <td>859</td>\n",
       "      <td>12</td>\n",
       "      <td>974</td>\n",
       "    </tr>\n",
       "    <tr>\n",
       "      <th>9</th>\n",
       "      <td>15</td>\n",
       "      <td>5</td>\n",
       "      <td>4</td>\n",
       "      <td>12</td>\n",
       "      <td>53</td>\n",
       "      <td>4</td>\n",
       "      <td>2</td>\n",
       "      <td>16</td>\n",
       "      <td>23</td>\n",
       "      <td>875</td>\n",
       "      <td>1009</td>\n",
       "    </tr>\n",
       "    <tr>\n",
       "      <th>All</th>\n",
       "      <td>1084</td>\n",
       "      <td>1160</td>\n",
       "      <td>963</td>\n",
       "      <td>1030</td>\n",
       "      <td>979</td>\n",
       "      <td>656</td>\n",
       "      <td>978</td>\n",
       "      <td>959</td>\n",
       "      <td>1153</td>\n",
       "      <td>1038</td>\n",
       "      <td>10000</td>\n",
       "    </tr>\n",
       "  </tbody>\n",
       "</table>\n",
       "</div>"
      ],
      "text/plain": [
       "Predicted     0     1    2     3    4    5    6    7     8     9    All\n",
       "Actual                                                                 \n",
       "0           954     0    3     1    0    6    6    1     9     0    980\n",
       "1             0  1084    6     4    0    0    4    2    35     0   1135\n",
       "2            19    16  860    14   15    0   27   13    64     4   1032\n",
       "3             6     2   22   882    1   23    4   14    43    13   1010\n",
       "4             5     9    2     1  871    0   13    1     9    71    982\n",
       "5            45     7    9    83    7  598   21   10    96    16    892\n",
       "6            21     3   15     1   11   14  888    0     5     0    958\n",
       "7             7    27   29     3   12    1    0  892    10    47   1028\n",
       "8            12     7   13    29    9   10   13   10   859    12    974\n",
       "9            15     5    4    12   53    4    2   16    23   875   1009\n",
       "All        1084  1160  963  1030  979  656  978  959  1153  1038  10000"
      ]
     },
     "execution_count": 22,
     "metadata": {},
     "output_type": "execute_result"
    }
   ],
   "source": [
    "import pandas as pd\n",
    "\n",
    "tested_eval = model.evaluate(x_test, y_test, batch_size = 128)\n",
    "tested_pred = model.predict(x_test, batch_size = 128)\n",
    "\n",
    "actu = np.argmax(y_test, axis = 1, out = None)\n",
    "pred = np.argmax(tested_pred, axis = 1, out = None)\n",
    "\n",
    "confusion = pd.crosstab(actu, pred, rownames=['Actual'], colnames=['Predicted'], margins=True)\n",
    "confusion"
   ]
  },
  {
   "cell_type": "code",
   "execution_count": 23,
   "metadata": {},
   "outputs": [
    {
     "data": {
      "image/png": "[encoded data removed]",
      "text/plain": [
       "<matplotlib.figure.Figure at 0x16e97e48>"
      ]
     },
     "metadata": {},
     "output_type": "display_data"
    },
    {
     "data": {
      "image/png": "[encoded data removed]",
      "text/plain": [
       "<matplotlib.figure.Figure at 0x16ec5f98>"
      ]
     },
     "metadata": {},
     "output_type": "display_data"
    }
   ],
   "source": [
    "plt.plot(range(1,6), trained.history[\"acc\"], color = \"blue\")\n",
    "plt.plot(range(1,6), trained.history[\"val_acc\"], color = \"green\")\n",
    "plt.plot(5, tested_eval[1], marker = \"o\", color = \"orange\")\n",
    "plt.legend([\"accuracy train\", \"accuracy valid\", \"accuracy test\"])\n",
    "plt.show()\n",
    "\n",
    "plt.plot(range(1,6), trained.history[\"loss\"], color = \"blue\")\n",
    "plt.plot(range(1,6), trained.history[\"val_loss\"], color = \"green\")\n",
    "plt.plot(5, tested_eval[0], marker = \"o\", color = \"orange\")\n",
    "plt.legend([\"loss train\", \"loss valid\", \"loss test\"])\n",
    "plt.show()"
   ]
  },
  {
   "cell_type": "code",
   "execution_count": null,
   "metadata": {},
   "outputs": [],
   "source": [
    "tbcallback = keras.callbacks.TensorBoard(log_dir='./logs', \n",
    "                            histogram_freq=0, \n",
    "                            batch_size=32, \n",
    "                            write_graph=True, write_grads=True, write_images=True, \n",
    "                            embeddings_freq=0, embeddings_layer_names=None, \n",
    "                            embeddings_metadata=None, embeddings_data=None, update_freq='epoch')\n",
    "callbacks = [tbcallback]"
   ]
  },
  {
   "cell_type": "code",
   "execution_count": null,
   "metadata": {},
   "outputs": [],
   "source": [
    "new_model = keras.models.load_model('./checkpoints/model_01.hdf5')\n",
    "new_model.summary()\n",
    "new_model.evaluate(x_train, y_train, batch_size = 128)"
   ]
  },
  {
   "cell_type": "code",
   "execution_count": null,
   "metadata": {},
   "outputs": [],
   "source": [
    "ind = random.sample(range(x_train.shape[0]), int(1/12 * x_train.shape[0]))\n",
    "x_valid, y_valid = x_train[ind], y_train[ind]\n",
    "x_train, y_train = np.delete(x_train, ind, axis = 0), np.delete(y_train, ind, axis = 0)"
   ]
  },
  {
   "cell_type": "code",
   "execution_count": null,
   "metadata": {},
   "outputs": [],
   "source": [
    "json_string = model.to_json()\n",
    "model.save_weights(filepath)\n",
    "model.load_weights(filepath, by_name=False)"
   ]
  },
  {
   "cell_type": "code",
   "execution_count": null,
   "metadata": {},
   "outputs": [],
   "source": [
    "with open(\"model_num.json\", \"w\") as json_file:\n",
    "    json_file.write(json_string)\n",
    "    \n",
    "json_file = open('model_num.json', 'r')\n",
    "loaded_model_json = json_file.read()\n",
    "json_file.close()\n",
    "loaded_model = model_from_json(loaded_model_json)"
   ]
  },
  {
   "cell_type": "code",
   "execution_count": null,
   "metadata": {},
   "outputs": [],
   "source": []
  }
 ],
 "metadata": {
  "kernelspec": {
   "display_name": "Python 3",
   "language": "python",
   "name": "python3"
  },
  "language_info": {
   "codemirror_mode": {
    "name": "ipython",
    "version": 3
   },
   "file_extension": ".py",
   "mimetype": "text/x-python",
   "name": "python",
   "nbconvert_exporter": "python",
   "pygments_lexer": "ipython3",
   "version": "3.5.4"
  }
 },
 "nbformat": 4,
 "nbformat_minor": 2
}
