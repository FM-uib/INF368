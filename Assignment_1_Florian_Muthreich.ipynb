{
 "cells": [
  {
   "cell_type": "markdown",
   "metadata": {},
   "source": [
    "### Florian Muthreich   ---   INF368   ---"
   ]
  },
  {
   "cell_type": "markdown",
   "metadata": {},
   "source": [
    "# Assignment 1"
   ]
  },
  {
   "cell_type": "markdown",
   "metadata": {},
   "source": [
    "Load necessary packages"
   ]
  },
  {
   "cell_type": "code",
   "execution_count": 1,
   "metadata": {},
   "outputs": [
    {
     "name": "stderr",
     "output_type": "stream",
     "text": [
      "Using TensorFlow backend.\n"
     ]
    }
   ],
   "source": [
    "import matplotlib.pyplot as plt\n",
    "import keras\n",
    "import random\n",
    "import numpy as np"
   ]
  },
  {
   "cell_type": "markdown",
   "metadata": {},
   "source": [
    "---\n",
    "Next I download the MNIST dataset. It is already split in test and training set and saved to variables. The images are stored separately from the labels in arrays."
   ]
  },
  {
   "cell_type": "code",
   "execution_count": 2,
   "metadata": {},
   "outputs": [],
   "source": [
    "from keras.datasets import mnist\n",
    "\n",
    "(x_train, y_train), (x_test, y_test) = mnist.load_data()"
   ]
  },
  {
   "cell_type": "markdown",
   "metadata": {},
   "source": [
    "---\n",
    "The MNIST set has been downloaded and I can show the dimensions of the dataset.\n",
    "In total there are 70000 images of handwritten numbers. 60000 in the train set and 10000 in the test set. each image is 28 x 28 pixels and has only one channel, which means each cell indicates the intensity of a pixel. The labels are stored separately in their own array, which basically has the shape of a vector."
   ]
  },
  {
   "cell_type": "code",
   "execution_count": 3,
   "metadata": {},
   "outputs": [
    {
     "name": "stdout",
     "output_type": "stream",
     "text": [
      "Training set: (60000, 28, 28) , labels (60000,)\n",
      "Test set: (10000, 28, 28) , labels (10000,)\n"
     ]
    }
   ],
   "source": [
    "print(\"Training set:\",x_train.shape, \", labels\", y_train.shape)\n",
    "print(\"Test set:\",x_test.shape, \", labels\", y_test.shape)"
   ]
  },
  {
   "cell_type": "markdown",
   "metadata": {},
   "source": [
    "---\n",
    "Here I plot 6 random images from the MNIST dataset. 3 from the train and 3 from the test set."
   ]
  },
  {
   "cell_type": "code",
   "execution_count": 5,
   "metadata": {},
   "outputs": [
    {
     "data": {
      "image/png": "[encoded data removed]",
      "text/plain": [
       "<matplotlib.figure.Figure at 0x16bfb940>"
      ]
     },
     "metadata": {},
     "output_type": "display_data"
    }
   ],
   "source": [
    "plt.rcParams[\"figure.figsize\"] = (14,10)\n",
    "for x in range(6):\n",
    "    if x<3:\n",
    "        i = random.randint(1,x_train.shape[0])\n",
    "        plt.subplot(2, 3, x+1)\n",
    "        plt.imshow(x_train[i])\n",
    "        plt.title(\"Train img: {}; label: {}\".format(i,y_train[i]))\n",
    "    else:\n",
    "        i = random.randint(1,x_test.shape[0])\n",
    "        plt.subplot(2, 3, x+1)\n",
    "        plt.imshow(x_test[i])\n",
    "        plt.title(\"Test img: {}; label: {}\".format(i,y_test[i]))\n",
    "        \n",
    "plt.show()"
   ]
  },
  {
   "cell_type": "markdown",
   "metadata": {},
   "source": [
    "---\n",
    "I defined a function to transform the training data into 4D vectors. The same function also converts the labels into one hot coded vectors. "
   ]
  },
  {
   "cell_type": "code",
   "execution_count": 6,
   "metadata": {},
   "outputs": [
    {
     "name": "stdout",
     "output_type": "stream",
     "text": [
      "Training set: (60000, 1, 28, 28) , labels (60000, 10)\n",
      "Test set: (10000, 1, 28, 28) , labels (10000, 10)\n"
     ]
    }
   ],
   "source": [
    "def res_rec(data, labels, channels):\n",
    "    tmp = data.reshape(data.shape[0], channels, data.shape[1], data.shape[2])\n",
    "    tmp = tmp.astype(\"float32\")\n",
    "    tmp = tmp/np.amax(x_train)\n",
    "    lbl = keras.utils.to_categorical(labels, len(np.unique(labels)))\n",
    "    return tmp, lbl\n",
    "\n",
    "x_train, y_train = res_rec(x_train, y_train, 1)\n",
    "x_test, y_test = res_rec(x_test, y_test, 1)\n",
    "\n",
    "print(\"Training set:\",x_train.shape, \", labels\", y_train.shape)\n",
    "print(\"Test set:\",x_test.shape, \", labels\", y_test.shape)"
   ]
  },
  {
   "cell_type": "markdown",
   "metadata": {},
   "source": [
    "---\n",
    "This model has 1 hidden layer with 50 units and a second layer with 10 softmax units. I added another layer before the first hidden layer to convert the picture data from a 28 x 28 matrix into a vector, this is done by the flatten layer. there are no weights learned in this layer, hust a transformation from 2 dimensions to 1. The number of parameters can be easily derived from this model description.\n",
    "\n",
    "We have 784 input features that are connected to 50 hidden units in the first layer (1). Each unit also has a weight for the bias (2). In the next layer, the 50 units of the first hidden unit are connected to the 10 Softmax units with weights for each connection in addition to weights for the bias of each node in the Softmax layer (3). This brings the total to 39760 parameters. We can see the number of trainable parameters with the model.summary() command.\n",
    "\n",
    "1) 784 * 50 = 39200\n",
    "\n",
    "2) 39200 + 50 = 39250\n",
    "\n",
    "3) 50 * 10 + 10 = 510\n"
   ]
  },
  {
   "cell_type": "code",
   "execution_count": 7,
   "metadata": {},
   "outputs": [
    {
     "name": "stdout",
     "output_type": "stream",
     "text": [
      "_________________________________________________________________\n",
      "Layer (type)                 Output Shape              Param #   \n",
      "=================================================================\n",
      "flatten (Flatten)            (None, 784)               0         \n",
      "_________________________________________________________________\n",
      "hidden_1 (Dense)             (None, 50)                39250     \n",
      "_________________________________________________________________\n",
      "act_hidden_1 (Activation)    (None, 50)                0         \n",
      "_________________________________________________________________\n",
      "out (Dense)                  (None, 10)                510       \n",
      "_________________________________________________________________\n",
      "act_out (Activation)         (None, 10)                0         \n",
      "=================================================================\n",
      "Total params: 39,760\n",
      "Trainable params: 39,760\n",
      "Non-trainable params: 0\n",
      "_________________________________________________________________\n"
     ]
    }
   ],
   "source": [
    "from keras.models import Sequential\n",
    "from keras.layers import Dense, Activation, Flatten\n",
    "\n",
    "model = Sequential([\n",
    "    Flatten(input_shape = (1,28, 28), name = \"flatten\"),\n",
    "    Dense(50, name = \"hidden_1\"),\n",
    "    Activation(\"sigmoid\", name = \"act_hidden_1\"),\n",
    "    Dense(10, name = \"out\"),\n",
    "    Activation(\"softmax\", name = \"act_out\")\n",
    "])\n",
    "\n",
    "model.compile(optimizer = \"sgd\",\n",
    "             loss = \"categorical_crossentropy\",\n",
    "             metrics = [\"accuracy\"])\n",
    "\n",
    "model.summary()"
   ]
  },
  {
   "cell_type": "markdown",
   "metadata": {},
   "source": [
    "---\n",
    "The training data is split into training and validation (development) set. I randomly select 5000 (1/12) images of the training set and their corresponding labels and save them as the validation set, to check performance during training. \n",
    "\n",
    "In the last line of the code I call a function that will save model checkpoints and the weights after each epoch. This way I can go back to each point during training and recreate the model and its weight from that point in the training process. "
   ]
  },
  {
   "cell_type": "code",
   "execution_count": 8,
   "metadata": {},
   "outputs": [],
   "source": [
    "ind = random.sample(range(x_train.shape[0]), int(1/12 * x_train.shape[0]))\n",
    "x_valid, y_valid = x_train[ind], y_train[ind]\n",
    "x_train, y_train = np.delete(x_train, ind, axis = 0), np.delete(y_train, ind, axis = 0)\n",
    "\n",
    "checkpoints = keras.callbacks.ModelCheckpoint(\"./checkpoints/model_{epoch:02d}.hdf5\", \n",
    "                                              monitor='val_loss', \n",
    "                                              verbose=0, \n",
    "                                              save_best_only=False, save_weights_only=False)\n"
   ]
  },
  {
   "cell_type": "code",
   "execution_count": 9,
   "metadata": {},
   "outputs": [
    {
     "name": "stdout",
     "output_type": "stream",
     "text": [
      "Train on 55000 samples, validate on 5000 samples\n",
      "Epoch 1/10\n",
      "55000/55000 [==============================] - 1s 26us/step - loss: 1.9630 - acc: 0.5568 - val_loss: 1.6047 - val_acc: 0.7344\n",
      "Epoch 2/10\n",
      "55000/55000 [==============================] - 1s 21us/step - loss: 1.3389 - acc: 0.7658 - val_loss: 1.1064 - val_acc: 0.8010\n",
      "Epoch 3/10\n",
      "55000/55000 [==============================] - 1s 21us/step - loss: 0.9662 - acc: 0.8140 - val_loss: 0.8461 - val_acc: 0.8316\n",
      "Epoch 4/10\n",
      "55000/55000 [==============================] - 1s 25us/step - loss: 0.7704 - acc: 0.8383 - val_loss: 0.7036 - val_acc: 0.8520\n",
      "Epoch 5/10\n",
      "55000/55000 [==============================] - 1s 23us/step - loss: 0.6569 - acc: 0.8533 - val_loss: 0.6150 - val_acc: 0.8644\n",
      "Epoch 6/10\n",
      "55000/55000 [==============================] - 1s 23us/step - loss: 0.5832 - acc: 0.8641 - val_loss: 0.5548 - val_acc: 0.8736\n",
      "Epoch 7/10\n",
      "55000/55000 [==============================] - 1s 21us/step - loss: 0.5316 - acc: 0.8721 - val_loss: 0.5110 - val_acc: 0.8816\n",
      "Epoch 8/10\n",
      "55000/55000 [==============================] - 1s 22us/step - loss: 0.4933 - acc: 0.8785 - val_loss: 0.4783 - val_acc: 0.8876\n",
      "Epoch 9/10\n",
      "55000/55000 [==============================] - 2s 33us/step - loss: 0.4640 - acc: 0.8832 - val_loss: 0.4527 - val_acc: 0.8894\n",
      "Epoch 10/10\n",
      "55000/55000 [==============================] - 1s 24us/step - loss: 0.4407 - acc: 0.8868 - val_loss: 0.4319 - val_acc: 0.8942\n"
     ]
    }
   ],
   "source": [
    "trained = model.fit(x_train, y_train, \n",
    "                    epochs = 10, batch_size = 64, \n",
    "                    callbacks = [checkpoints], \n",
    "                    validation_data = (x_valid, y_valid))"
   ]
  },
  {
   "cell_type": "code",
   "execution_count": 21,
   "metadata": {},
   "outputs": [
    {
     "name": "stdout",
     "output_type": "stream",
     "text": [
      "10000/10000 [==============================] - 0s 12us/step\n",
      "Predicted     0     1    2     3     4    5     6    7     8     9    All\n",
      "Actual                                                                   \n",
      "0           955     0    2     2     0    4    12    1     4     0    980\n",
      "1             0  1066    2     7     1    0     5    0    53     1   1135\n",
      "2            16     7  882    24    14    0    17   23    44     5   1032\n",
      "3             4     0   18   894     2   26     8   10    37    11   1010\n",
      "4             1     3    6     1   879    0    19    1    20    52    982\n",
      "5            32     6    6    70    20  622    28    8    87    13    892\n",
      "6            21     2    9     1    11   11   893    1     9     0    958\n",
      "7             6    21   27     4    12    1     2  895    14    46   1028\n",
      "8             9     8    9    29     7   12    15    4   860    21    974\n",
      "9            16     5    4    11    55    3     2   10    27   876   1009\n",
      "All        1060  1118  965  1043  1001  679  1001  953  1155  1025  10000\n",
      "Test-Set:\n",
      "Accuracy : 0.8822 Loss : 0.40343207058906555\n"
     ]
    }
   ],
   "source": [
    "import pandas as pd\n",
    "\n",
    "tested_eval = model.evaluate(x_test, y_test, batch_size = 128)\n",
    "tested_pred = model.predict(x_test, batch_size = 128)\n",
    "\n",
    "actu = np.argmax(y_test, axis = 1, out = None)\n",
    "pred = np.argmax(tested_pred, axis = 1, out = None)\n",
    "\n",
    "confusion = pd.crosstab(actu, pred, rownames=['Actual'], colnames=['Predicted'], margins=True)\n",
    "print(confusion)\n",
    "print(\"Test-Set:\")\n",
    "print(\"Accuracy :\", tested_eval[1], \"Loss :\", tested_eval[0])"
   ]
  },
  {
   "cell_type": "markdown",
   "metadata": {},
   "source": [
    "The previous code segment uses the trained model to evaluate and predict the test set. Furthermore it calculates a confusion matrix, showcasing the accuracy of the predictions.\n",
    "\n",
    "In the Diagonal we see the correctly identified images, while the off diagonals show the number of misidentified images.\n",
    "\n",
    "Overall accuracy was 88% with a loss of .403.\n",
    "\n",
    "---"
   ]
  },
  {
   "cell_type": "code",
   "execution_count": 24,
   "metadata": {},
   "outputs": [
    {
     "data": {
      "image/png": "[encoded data removed]",
      "text/plain": [
       "<matplotlib.figure.Figure at 0x1923fac8>"
      ]
     },
     "metadata": {},
     "output_type": "display_data"
    }
   ],
   "source": [
    "plt.rcParams[\"figure.figsize\"] = (16,5)\n",
    "plt.subplot(1, 2, 1)\n",
    "\n",
    "plt.plot(range(1, 11), trained.history[\"acc\"], color = \"blue\")\n",
    "plt.plot(range(1, 11), trained.history[\"val_acc\"], color = \"green\")\n",
    "plt.plot(10, tested_eval[1], marker = \"o\", color = \"orange\")\n",
    "plt.ylim(0.5, 1), plt.xticks(range(1,11))\n",
    "plt.legend([\"train\", \"valid\", \"test\"])\n",
    "plt.title(\"Accuracy MLP model\"), plt.xlabel(\"Epochs\"), plt.ylabel(\"Accuracy\")\n",
    "\n",
    "plt.subplot(1, 2, 2)\n",
    "plt.plot(range(1, 11), trained.history[\"loss\"], color = \"blue\")\n",
    "plt.plot(range(1, 11), trained.history[\"val_loss\"], color = \"green\")\n",
    "plt.plot(10, tested_eval[0], marker = \"o\", color = \"orange\")\n",
    "plt.ylim(0), plt.xticks(range(1,11))\n",
    "plt.legend([\"train\", \"valid\", \"test\"])\n",
    "plt.title(\"Loss MLP model\"), plt.xlabel(\"Epochs\"), plt.ylabel(\"Loss\")\n",
    "plt.show()"
   ]
  },
  {
   "cell_type": "markdown",
   "metadata": {},
   "source": [
    "Overall the train and validation set reach similar performance after ca 5 epochs. Both measures show better performance of the validation set over the training set. One reason for the discrepancy could be in how the epoch accuracy and loss are calculated for training and validation set. each epoch trains the network on the entire training set in batches. The accuracy seen in the graph for the training set is average batch performance. This means that the batches in the beginning will have a much lower accuracy and higher loss than later batches in the epoch, which overall results in lower accuracy and loss. The neural network used in this example is quite small and learns relatively quickly, so that we would expect large improvements during the epochs. The validation data on the other hand is only evaluated at the end of each epoch, when the network has trained on the entire training set. This could be an explanation for the overall higher performance of the validation set.  \n",
    "\n",
    "---\n",
    "\n",
    "Saving the model to json string and to a file. \n",
    "\n",
    "Saving the weights of the latest model to hdf5 file."
   ]
  },
  {
   "cell_type": "code",
   "execution_count": 20,
   "metadata": {},
   "outputs": [],
   "source": [
    "json_string = model.to_json()\n",
    "with open(\"model_mlp.json\", \"w\") as json_file:\n",
    "    json_file.write(json_string)\n",
    "\n",
    "model.save_weights(\"weights_mlp.hdf5\")"
   ]
  },
  {
   "cell_type": "markdown",
   "metadata": {},
   "source": [
    "Load model from json and reload the weights."
   ]
  },
  {
   "cell_type": "code",
   "execution_count": null,
   "metadata": {
    "collapsed": true
   },
   "outputs": [],
   "source": [
    "with open(\"model_mlp.json\", \"r\") as json_file:\n",
    "    load_json_model = json_file.read()\n",
    "    \n",
    "loaded_model = keras.models.model_from_json(load_json_model)\n",
    "loaded_model.load_weights(\"weights_mlp.hdf5\", by_name=False)"
   ]
  },
  {
   "cell_type": "markdown",
   "metadata": {},
   "source": [
    "This code snippet will load the model after the first training epoch and restore the weights "
   ]
  },
  {
   "cell_type": "code",
   "execution_count": null,
   "metadata": {
    "collapsed": true
   },
   "outputs": [],
   "source": [
    "new_model = keras.models.load_model(\"checkpoints/model_01.hdf5\")\n",
    "new_model.summary()\n",
    "new_model.evaluate(x_train, y_train, batch_size = 128)"
   ]
  },
  {
   "cell_type": "markdown",
   "metadata": {},
   "source": [
    "## Lenet and MNIST\n",
    "\n",
    "In this section of the notebook "
   ]
  },
  {
   "cell_type": "code",
   "execution_count": 43,
   "metadata": {},
   "outputs": [
    {
     "name": "stdout",
     "output_type": "stream",
     "text": [
      "_________________________________________________________________\n",
      "Layer (type)                 Output Shape              Param #   \n",
      "=================================================================\n",
      "Conv1 (Conv2D)               (None, 6, 28, 28)         156       \n",
      "_________________________________________________________________\n",
      "Pool1 (MaxPooling2D)         (None, 6, 14, 14)         0         \n",
      "_________________________________________________________________\n",
      "Conv2 (Conv2D)               (None, 16, 10, 10)        2416      \n",
      "_________________________________________________________________\n",
      "Pool2 (MaxPooling2D)         (None, 16, 5, 5)          0         \n",
      "_________________________________________________________________\n",
      "Conv3 (Conv2D)               (None, 120, 1, 1)         48120     \n",
      "_________________________________________________________________\n",
      "hidden_2 (Dense)             (None, 120, 1, 84)        168       \n",
      "_________________________________________________________________\n",
      "out (Dense)                  (None, 120, 1, 10)        850       \n",
      "=================================================================\n",
      "Total params: 51,710\n",
      "Trainable params: 51,710\n",
      "Non-trainable params: 0\n",
      "_________________________________________________________________\n"
     ]
    }
   ],
   "source": [
    "from keras.layers import Conv2D, MaxPooling2D\n",
    "\n",
    "Lenet = Sequential([\n",
    "    Conv2D(input_shape = (1,28, 28), filters = 6, kernel_size = 5, strides = 1, activation = \"tanh\", name = \"Conv1\", padding = \"same\", data_format = \"channels_first\"),\n",
    "    MaxPooling2D(pool_size = 2, name = \"Pool1\", data_format = \"channels_first\"),\n",
    "    Conv2D(filters = 16, kernel_size = 5, strides = 1, activation = \"tanh\", name = \"Conv2\", data_format = \"channels_first\"),\n",
    "    MaxPooling2D(pool_size = 2, name = \"Pool2\", data_format = \"channels_first\"),\n",
    "    Conv2D(filters = 120, kernel_size = 5, strides = 1, activation = \"tanh\", name = \"Conv3\",data_format = \"channels_first\"),\n",
    "    #Flatten(name = \"flatten\"),\n",
    "    Dense(84, name = \"hidden_2\", activation = \"tanh\"),\n",
    "    Dense(10, name = \"out\", activation = \"softmax\")\n",
    "])\n",
    "\n",
    "Lenet.compile(optimizer = \"sgd\",\n",
    "             loss = \"categorical_crossentropy\",\n",
    "             metrics = [\"accuracy\"])\n",
    "\n",
    "Lenet.summary()"
   ]
  },
  {
   "cell_type": "code",
   "execution_count": 44,
   "metadata": {},
   "outputs": [
    {
     "name": "stdout",
     "output_type": "stream",
     "text": [
      "Train on 55000 samples, validate on 5000 samples\n",
      "Epoch 1/10\n",
      "55000/55000 [==============================] - 2s 32us/step - loss: 0.4219 - acc: 0.8899 - val_loss: 0.4154 - val_acc: 0.8948\n",
      "Epoch 2/10\n",
      "55000/55000 [==============================] - 1s 22us/step - loss: 0.4062 - acc: 0.8929 - val_loss: 0.4017 - val_acc: 0.8962\n",
      "Epoch 3/10\n",
      "55000/55000 [==============================] - 1s 23us/step - loss: 0.3931 - acc: 0.8950 - val_loss: 0.3896 - val_acc: 0.8990\n",
      "Epoch 4/10\n",
      "55000/55000 [==============================] - 1s 24us/step - loss: 0.3818 - acc: 0.8971 - val_loss: 0.3797 - val_acc: 0.9006\n",
      "Epoch 5/10\n",
      "55000/55000 [==============================] - 1s 25us/step - loss: 0.3719 - acc: 0.8991 - val_loss: 0.3710 - val_acc: 0.9026\n",
      "Epoch 6/10\n",
      "55000/55000 [==============================] - 1s 23us/step - loss: 0.3634 - acc: 0.9009 - val_loss: 0.3630 - val_acc: 0.9020\n",
      "Epoch 7/10\n",
      "55000/55000 [==============================] - 1s 25us/step - loss: 0.3557 - acc: 0.9027 - val_loss: 0.3560 - val_acc: 0.9034\n",
      "Epoch 8/10\n",
      "55000/55000 [==============================] - 1s 23us/step - loss: 0.3487 - acc: 0.9043 - val_loss: 0.3499 - val_acc: 0.9042\n",
      "Epoch 9/10\n",
      "55000/55000 [==============================] - 1s 23us/step - loss: 0.3424 - acc: 0.9058 - val_loss: 0.3441 - val_acc: 0.9052\n",
      "Epoch 10/10\n",
      "55000/55000 [==============================] - 1s 23us/step - loss: 0.3368 - acc: 0.9065 - val_loss: 0.3391 - val_acc: 0.9082\n"
     ]
    }
   ],
   "source": [
    "checkpoints = keras.callbacks.ModelCheckpoint(\"./checkpoints/Lenet_{epoch:02d}.hdf5\", \n",
    "                                              monitor='val_loss', \n",
    "                                              verbose=0, \n",
    "                                              save_best_only=False, save_weights_only=False)\n",
    "\n",
    "Lenet_trained = model.fit(x_train, y_train, \n",
    "                    epochs = 10, batch_size = 64, \n",
    "                    callbacks = [checkpoints], \n",
    "                    validation_data = (x_valid, y_valid))"
   ]
  },
  {
   "cell_type": "code",
   "execution_count": 49,
   "metadata": {},
   "outputs": [
    {
     "ename": "Exception",
     "evalue": "Data must be 1-dimensional",
     "output_type": "error",
     "traceback": [
      "\u001b[1;31m---------------------------------------------------------------------------\u001b[0m",
      "\u001b[1;31mException\u001b[0m                                 Traceback (most recent call last)",
      "\u001b[1;32m<ipython-input-49-365be7dc2767>\u001b[0m in \u001b[0;36m<module>\u001b[1;34m()\u001b[0m\n\u001b[0;32m      7\u001b[0m \u001b[0mtest_pred\u001b[0m \u001b[1;33m=\u001b[0m \u001b[0mnp\u001b[0m\u001b[1;33m.\u001b[0m\u001b[0margmax\u001b[0m\u001b[1;33m(\u001b[0m\u001b[0mLenet_pred\u001b[0m\u001b[1;33m,\u001b[0m \u001b[0maxis\u001b[0m \u001b[1;33m=\u001b[0m \u001b[1;36m1\u001b[0m\u001b[1;33m,\u001b[0m \u001b[0mout\u001b[0m \u001b[1;33m=\u001b[0m \u001b[1;32mNone\u001b[0m\u001b[1;33m)\u001b[0m\u001b[1;33m\u001b[0m\u001b[0m\n\u001b[0;32m      8\u001b[0m \u001b[1;33m\u001b[0m\u001b[0m\n\u001b[1;32m----> 9\u001b[1;33m \u001b[0mconfusion\u001b[0m \u001b[1;33m=\u001b[0m \u001b[0mpd\u001b[0m\u001b[1;33m.\u001b[0m\u001b[0mcrosstab\u001b[0m\u001b[1;33m(\u001b[0m\u001b[0mtest_actu\u001b[0m\u001b[1;33m,\u001b[0m \u001b[0mtest_pred\u001b[0m\u001b[1;33m,\u001b[0m \u001b[0mrownames\u001b[0m\u001b[1;33m=\u001b[0m\u001b[1;33m[\u001b[0m\u001b[1;34m'Actual'\u001b[0m\u001b[1;33m]\u001b[0m\u001b[1;33m,\u001b[0m \u001b[0mcolnames\u001b[0m\u001b[1;33m=\u001b[0m\u001b[1;33m[\u001b[0m\u001b[1;34m'Predicted'\u001b[0m\u001b[1;33m]\u001b[0m\u001b[1;33m,\u001b[0m \u001b[0mmargins\u001b[0m\u001b[1;33m=\u001b[0m\u001b[1;32mTrue\u001b[0m\u001b[1;33m)\u001b[0m\u001b[1;33m\u001b[0m\u001b[0m\n\u001b[0m\u001b[0;32m     10\u001b[0m \u001b[0mprint\u001b[0m\u001b[1;33m(\u001b[0m\u001b[0mconfusion\u001b[0m\u001b[1;33m)\u001b[0m\u001b[1;33m\u001b[0m\u001b[0m\n\u001b[0;32m     11\u001b[0m \u001b[0mprint\u001b[0m\u001b[1;33m(\u001b[0m\u001b[1;34m\"Test-Set:\"\u001b[0m\u001b[1;33m)\u001b[0m\u001b[1;33m\u001b[0m\u001b[0m\n",
      "\u001b[1;32mD:\\Anaconda\\envs\\tensorflow\\lib\\site-packages\\pandas\\core\\reshape\\pivot.py\u001b[0m in \u001b[0;36mcrosstab\u001b[1;34m(index, columns, values, rownames, colnames, aggfunc, margins, dropna, normalize)\u001b[0m\n\u001b[0;32m    488\u001b[0m \u001b[1;33m\u001b[0m\u001b[0m\n\u001b[0;32m    489\u001b[0m     \u001b[1;32mif\u001b[0m \u001b[0mvalues\u001b[0m \u001b[1;32mis\u001b[0m \u001b[1;32mNone\u001b[0m\u001b[1;33m:\u001b[0m\u001b[1;33m\u001b[0m\u001b[0m\n\u001b[1;32m--> 490\u001b[1;33m         \u001b[0mdf\u001b[0m \u001b[1;33m=\u001b[0m \u001b[0mDataFrame\u001b[0m\u001b[1;33m(\u001b[0m\u001b[0mdata\u001b[0m\u001b[1;33m)\u001b[0m\u001b[1;33m\u001b[0m\u001b[0m\n\u001b[0m\u001b[0;32m    491\u001b[0m         \u001b[0mdf\u001b[0m\u001b[1;33m[\u001b[0m\u001b[1;34m'__dummy__'\u001b[0m\u001b[1;33m]\u001b[0m \u001b[1;33m=\u001b[0m \u001b[1;36m0\u001b[0m\u001b[1;33m\u001b[0m\u001b[0m\n\u001b[0;32m    492\u001b[0m         table = df.pivot_table('__dummy__', index=rownames, columns=colnames,\n",
      "\u001b[1;32mD:\\Anaconda\\envs\\tensorflow\\lib\\site-packages\\pandas\\core\\frame.py\u001b[0m in \u001b[0;36m__init__\u001b[1;34m(self, data, index, columns, dtype, copy)\u001b[0m\n\u001b[0;32m    273\u001b[0m                                  dtype=dtype, copy=copy)\n\u001b[0;32m    274\u001b[0m         \u001b[1;32melif\u001b[0m \u001b[0misinstance\u001b[0m\u001b[1;33m(\u001b[0m\u001b[0mdata\u001b[0m\u001b[1;33m,\u001b[0m \u001b[0mdict\u001b[0m\u001b[1;33m)\u001b[0m\u001b[1;33m:\u001b[0m\u001b[1;33m\u001b[0m\u001b[0m\n\u001b[1;32m--> 275\u001b[1;33m             \u001b[0mmgr\u001b[0m \u001b[1;33m=\u001b[0m \u001b[0mself\u001b[0m\u001b[1;33m.\u001b[0m\u001b[0m_init_dict\u001b[0m\u001b[1;33m(\u001b[0m\u001b[0mdata\u001b[0m\u001b[1;33m,\u001b[0m \u001b[0mindex\u001b[0m\u001b[1;33m,\u001b[0m \u001b[0mcolumns\u001b[0m\u001b[1;33m,\u001b[0m \u001b[0mdtype\u001b[0m\u001b[1;33m=\u001b[0m\u001b[0mdtype\u001b[0m\u001b[1;33m)\u001b[0m\u001b[1;33m\u001b[0m\u001b[0m\n\u001b[0m\u001b[0;32m    276\u001b[0m         \u001b[1;32melif\u001b[0m \u001b[0misinstance\u001b[0m\u001b[1;33m(\u001b[0m\u001b[0mdata\u001b[0m\u001b[1;33m,\u001b[0m \u001b[0mma\u001b[0m\u001b[1;33m.\u001b[0m\u001b[0mMaskedArray\u001b[0m\u001b[1;33m)\u001b[0m\u001b[1;33m:\u001b[0m\u001b[1;33m\u001b[0m\u001b[0m\n\u001b[0;32m    277\u001b[0m             \u001b[1;32mimport\u001b[0m \u001b[0mnumpy\u001b[0m\u001b[1;33m.\u001b[0m\u001b[0mma\u001b[0m\u001b[1;33m.\u001b[0m\u001b[0mmrecords\u001b[0m \u001b[1;32mas\u001b[0m \u001b[0mmrecords\u001b[0m\u001b[1;33m\u001b[0m\u001b[0m\n",
      "\u001b[1;32mD:\\Anaconda\\envs\\tensorflow\\lib\\site-packages\\pandas\\core\\frame.py\u001b[0m in \u001b[0;36m_init_dict\u001b[1;34m(self, data, index, columns, dtype)\u001b[0m\n\u001b[0;32m    409\u001b[0m             \u001b[0marrays\u001b[0m \u001b[1;33m=\u001b[0m \u001b[1;33m[\u001b[0m\u001b[0mdata\u001b[0m\u001b[1;33m[\u001b[0m\u001b[0mk\u001b[0m\u001b[1;33m]\u001b[0m \u001b[1;32mfor\u001b[0m \u001b[0mk\u001b[0m \u001b[1;32min\u001b[0m \u001b[0mkeys\u001b[0m\u001b[1;33m]\u001b[0m\u001b[1;33m\u001b[0m\u001b[0m\n\u001b[0;32m    410\u001b[0m \u001b[1;33m\u001b[0m\u001b[0m\n\u001b[1;32m--> 411\u001b[1;33m         \u001b[1;32mreturn\u001b[0m \u001b[0m_arrays_to_mgr\u001b[0m\u001b[1;33m(\u001b[0m\u001b[0marrays\u001b[0m\u001b[1;33m,\u001b[0m \u001b[0mdata_names\u001b[0m\u001b[1;33m,\u001b[0m \u001b[0mindex\u001b[0m\u001b[1;33m,\u001b[0m \u001b[0mcolumns\u001b[0m\u001b[1;33m,\u001b[0m \u001b[0mdtype\u001b[0m\u001b[1;33m=\u001b[0m\u001b[0mdtype\u001b[0m\u001b[1;33m)\u001b[0m\u001b[1;33m\u001b[0m\u001b[0m\n\u001b[0m\u001b[0;32m    412\u001b[0m \u001b[1;33m\u001b[0m\u001b[0m\n\u001b[0;32m    413\u001b[0m     \u001b[1;32mdef\u001b[0m \u001b[0m_init_ndarray\u001b[0m\u001b[1;33m(\u001b[0m\u001b[0mself\u001b[0m\u001b[1;33m,\u001b[0m \u001b[0mvalues\u001b[0m\u001b[1;33m,\u001b[0m \u001b[0mindex\u001b[0m\u001b[1;33m,\u001b[0m \u001b[0mcolumns\u001b[0m\u001b[1;33m,\u001b[0m \u001b[0mdtype\u001b[0m\u001b[1;33m=\u001b[0m\u001b[1;32mNone\u001b[0m\u001b[1;33m,\u001b[0m \u001b[0mcopy\u001b[0m\u001b[1;33m=\u001b[0m\u001b[1;32mFalse\u001b[0m\u001b[1;33m)\u001b[0m\u001b[1;33m:\u001b[0m\u001b[1;33m\u001b[0m\u001b[0m\n",
      "\u001b[1;32mD:\\Anaconda\\envs\\tensorflow\\lib\\site-packages\\pandas\\core\\frame.py\u001b[0m in \u001b[0;36m_arrays_to_mgr\u001b[1;34m(arrays, arr_names, index, columns, dtype)\u001b[0m\n\u001b[0;32m   5499\u001b[0m \u001b[1;33m\u001b[0m\u001b[0m\n\u001b[0;32m   5500\u001b[0m     \u001b[1;31m# don't force copy because getting jammed in an ndarray anyway\u001b[0m\u001b[1;33m\u001b[0m\u001b[1;33m\u001b[0m\u001b[0m\n\u001b[1;32m-> 5501\u001b[1;33m     \u001b[0marrays\u001b[0m \u001b[1;33m=\u001b[0m \u001b[0m_homogenize\u001b[0m\u001b[1;33m(\u001b[0m\u001b[0marrays\u001b[0m\u001b[1;33m,\u001b[0m \u001b[0mindex\u001b[0m\u001b[1;33m,\u001b[0m \u001b[0mdtype\u001b[0m\u001b[1;33m)\u001b[0m\u001b[1;33m\u001b[0m\u001b[0m\n\u001b[0m\u001b[0;32m   5502\u001b[0m \u001b[1;33m\u001b[0m\u001b[0m\n\u001b[0;32m   5503\u001b[0m     \u001b[1;31m# from BlockManager perspective\u001b[0m\u001b[1;33m\u001b[0m\u001b[1;33m\u001b[0m\u001b[0m\n",
      "\u001b[1;32mD:\\Anaconda\\envs\\tensorflow\\lib\\site-packages\\pandas\\core\\frame.py\u001b[0m in \u001b[0;36m_homogenize\u001b[1;34m(data, index, dtype)\u001b[0m\n\u001b[0;32m   5810\u001b[0m                 \u001b[0mv\u001b[0m \u001b[1;33m=\u001b[0m \u001b[0mlib\u001b[0m\u001b[1;33m.\u001b[0m\u001b[0mfast_multiget\u001b[0m\u001b[1;33m(\u001b[0m\u001b[0mv\u001b[0m\u001b[1;33m,\u001b[0m \u001b[0moindex\u001b[0m\u001b[1;33m.\u001b[0m\u001b[0mvalues\u001b[0m\u001b[1;33m,\u001b[0m \u001b[0mdefault\u001b[0m\u001b[1;33m=\u001b[0m\u001b[0mNA\u001b[0m\u001b[1;33m)\u001b[0m\u001b[1;33m\u001b[0m\u001b[0m\n\u001b[0;32m   5811\u001b[0m             v = _sanitize_array(v, index, dtype=dtype, copy=False,\n\u001b[1;32m-> 5812\u001b[1;33m                                 raise_cast_failure=False)\n\u001b[0m\u001b[0;32m   5813\u001b[0m \u001b[1;33m\u001b[0m\u001b[0m\n\u001b[0;32m   5814\u001b[0m         \u001b[0mhomogenized\u001b[0m\u001b[1;33m.\u001b[0m\u001b[0mappend\u001b[0m\u001b[1;33m(\u001b[0m\u001b[0mv\u001b[0m\u001b[1;33m)\u001b[0m\u001b[1;33m\u001b[0m\u001b[0m\n",
      "\u001b[1;32mD:\\Anaconda\\envs\\tensorflow\\lib\\site-packages\\pandas\\core\\series.py\u001b[0m in \u001b[0;36m_sanitize_array\u001b[1;34m(data, index, dtype, copy, raise_cast_failure)\u001b[0m\n\u001b[0;32m   3025\u001b[0m     \u001b[1;32melif\u001b[0m \u001b[0msubarr\u001b[0m\u001b[1;33m.\u001b[0m\u001b[0mndim\u001b[0m \u001b[1;33m>\u001b[0m \u001b[1;36m1\u001b[0m\u001b[1;33m:\u001b[0m\u001b[1;33m\u001b[0m\u001b[0m\n\u001b[0;32m   3026\u001b[0m         \u001b[1;32mif\u001b[0m \u001b[0misinstance\u001b[0m\u001b[1;33m(\u001b[0m\u001b[0mdata\u001b[0m\u001b[1;33m,\u001b[0m \u001b[0mnp\u001b[0m\u001b[1;33m.\u001b[0m\u001b[0mndarray\u001b[0m\u001b[1;33m)\u001b[0m\u001b[1;33m:\u001b[0m\u001b[1;33m\u001b[0m\u001b[0m\n\u001b[1;32m-> 3027\u001b[1;33m             \u001b[1;32mraise\u001b[0m \u001b[0mException\u001b[0m\u001b[1;33m(\u001b[0m\u001b[1;34m'Data must be 1-dimensional'\u001b[0m\u001b[1;33m)\u001b[0m\u001b[1;33m\u001b[0m\u001b[0m\n\u001b[0m\u001b[0;32m   3028\u001b[0m         \u001b[1;32melse\u001b[0m\u001b[1;33m:\u001b[0m\u001b[1;33m\u001b[0m\u001b[0m\n\u001b[0;32m   3029\u001b[0m             \u001b[0msubarr\u001b[0m \u001b[1;33m=\u001b[0m \u001b[0m_asarray_tuplesafe\u001b[0m\u001b[1;33m(\u001b[0m\u001b[0mdata\u001b[0m\u001b[1;33m,\u001b[0m \u001b[0mdtype\u001b[0m\u001b[1;33m=\u001b[0m\u001b[0mdtype\u001b[0m\u001b[1;33m)\u001b[0m\u001b[1;33m\u001b[0m\u001b[0m\n",
      "\u001b[1;31mException\u001b[0m: Data must be 1-dimensional"
     ]
    }
   ],
   "source": [
    "import pandas as pd\n",
    "\n",
    "#Lenet_eval = Lenet.evaluate(x_test, y_test, batch_size = 128)\n",
    "Lenet_pred = Lenet.predict(x_test, batch_size = 128)\n",
    "\n",
    "test_actu = np.argmax(y_test, axis = 1, out = None)\n",
    "test_pred = np.argmax(Lenet_pred, axis = 1, out = None)\n",
    "\n",
    "confusion = pd.crosstab(test_actu, test_pred, rownames=['Actual'], colnames=['Predicted'], margins=True)\n",
    "print(confusion)\n",
    "print(\"Test-Set:\")\n",
    "print(\"Accuracy :\", Lenet_eval[1], \"Loss :\", Lenet_eval[0])"
   ]
  },
  {
   "cell_type": "code",
   "execution_count": null,
   "metadata": {
    "collapsed": true
   },
   "outputs": [],
   "source": [
    "tbcallback = keras.callbacks.TensorBoard(log_dir='./logs', \n",
    "                            histogram_freq=0, \n",
    "                            batch_size=32, \n",
    "                            write_graph=True, write_grads=True, write_images=True, \n",
    "                            embeddings_freq=0, embeddings_layer_names=None, \n",
    "                            embeddings_metadata=None, embeddings_data=None, update_freq='epoch')\n",
    "callbacks = [tbcallback]"
   ]
  },
  {
   "cell_type": "code",
   "execution_count": 53,
   "metadata": {},
   "outputs": [
    {
     "data": {
      "text/plain": [
       "(10000, 1, 10)"
      ]
     },
     "execution_count": 53,
     "metadata": {},
     "output_type": "execute_result"
    }
   ],
   "source": [
    "test_pred.shape"
   ]
  },
  {
   "cell_type": "code",
   "execution_count": 54,
   "metadata": {},
   "outputs": [
    {
     "ename": "ValueError",
     "evalue": "Error when checking target: expected out to have 4 dimensions, but got array with shape (55000, 10)",
     "output_type": "error",
     "traceback": [
      "\u001b[1;31m---------------------------------------------------------------------------\u001b[0m",
      "\u001b[1;31mValueError\u001b[0m                                Traceback (most recent call last)",
      "\u001b[1;32m<ipython-input-54-62877d9e8f5d>\u001b[0m in \u001b[0;36m<module>\u001b[1;34m()\u001b[0m\n\u001b[1;32m----> 1\u001b[1;33m \u001b[0mLenet\u001b[0m\u001b[1;33m.\u001b[0m\u001b[0mevaluate\u001b[0m\u001b[1;33m(\u001b[0m\u001b[0mx_train\u001b[0m\u001b[1;33m,\u001b[0m \u001b[0my_train\u001b[0m\u001b[1;33m,\u001b[0m \u001b[0mbatch_size\u001b[0m \u001b[1;33m=\u001b[0m \u001b[1;36m128\u001b[0m\u001b[1;33m)\u001b[0m\u001b[1;33m\u001b[0m\u001b[0m\n\u001b[0m",
      "\u001b[1;32mD:\\Anaconda\\envs\\tensorflow\\lib\\site-packages\\keras\\engine\\training.py\u001b[0m in \u001b[0;36mevaluate\u001b[1;34m(self, x, y, batch_size, verbose, sample_weight, steps)\u001b[0m\n\u001b[0;32m   1100\u001b[0m             \u001b[0mx\u001b[0m\u001b[1;33m,\u001b[0m \u001b[0my\u001b[0m\u001b[1;33m,\u001b[0m\u001b[1;33m\u001b[0m\u001b[0m\n\u001b[0;32m   1101\u001b[0m             \u001b[0msample_weight\u001b[0m\u001b[1;33m=\u001b[0m\u001b[0msample_weight\u001b[0m\u001b[1;33m,\u001b[0m\u001b[1;33m\u001b[0m\u001b[0m\n\u001b[1;32m-> 1102\u001b[1;33m             batch_size=batch_size)\n\u001b[0m\u001b[0;32m   1103\u001b[0m         \u001b[1;31m# Prepare inputs, delegate logic to `test_loop`.\u001b[0m\u001b[1;33m\u001b[0m\u001b[1;33m\u001b[0m\u001b[0m\n\u001b[0;32m   1104\u001b[0m         \u001b[1;32mif\u001b[0m \u001b[0mself\u001b[0m\u001b[1;33m.\u001b[0m\u001b[0m_uses_dynamic_learning_phase\u001b[0m\u001b[1;33m(\u001b[0m\u001b[1;33m)\u001b[0m\u001b[1;33m:\u001b[0m\u001b[1;33m\u001b[0m\u001b[0m\n",
      "\u001b[1;32mD:\\Anaconda\\envs\\tensorflow\\lib\\site-packages\\keras\\engine\\training.py\u001b[0m in \u001b[0;36m_standardize_user_data\u001b[1;34m(self, x, y, sample_weight, class_weight, check_array_lengths, batch_size)\u001b[0m\n\u001b[0;32m    787\u001b[0m                 \u001b[0mfeed_output_shapes\u001b[0m\u001b[1;33m,\u001b[0m\u001b[1;33m\u001b[0m\u001b[0m\n\u001b[0;32m    788\u001b[0m                 \u001b[0mcheck_batch_axis\u001b[0m\u001b[1;33m=\u001b[0m\u001b[1;32mFalse\u001b[0m\u001b[1;33m,\u001b[0m  \u001b[1;31m# Don't enforce the batch size.\u001b[0m\u001b[1;33m\u001b[0m\u001b[0m\n\u001b[1;32m--> 789\u001b[1;33m                 exception_prefix='target')\n\u001b[0m\u001b[0;32m    790\u001b[0m \u001b[1;33m\u001b[0m\u001b[0m\n\u001b[0;32m    791\u001b[0m             \u001b[1;31m# Generate sample-wise weight values given the `sample_weight` and\u001b[0m\u001b[1;33m\u001b[0m\u001b[1;33m\u001b[0m\u001b[0m\n",
      "\u001b[1;32mD:\\Anaconda\\envs\\tensorflow\\lib\\site-packages\\keras\\engine\\training_utils.py\u001b[0m in \u001b[0;36mstandardize_input_data\u001b[1;34m(data, names, shapes, check_batch_axis, exception_prefix)\u001b[0m\n\u001b[0;32m    126\u001b[0m                         \u001b[1;34m': expected '\u001b[0m \u001b[1;33m+\u001b[0m \u001b[0mnames\u001b[0m\u001b[1;33m[\u001b[0m\u001b[0mi\u001b[0m\u001b[1;33m]\u001b[0m \u001b[1;33m+\u001b[0m \u001b[1;34m' to have '\u001b[0m \u001b[1;33m+\u001b[0m\u001b[1;33m\u001b[0m\u001b[0m\n\u001b[0;32m    127\u001b[0m                         \u001b[0mstr\u001b[0m\u001b[1;33m(\u001b[0m\u001b[0mlen\u001b[0m\u001b[1;33m(\u001b[0m\u001b[0mshape\u001b[0m\u001b[1;33m)\u001b[0m\u001b[1;33m)\u001b[0m \u001b[1;33m+\u001b[0m \u001b[1;34m' dimensions, but got array '\u001b[0m\u001b[1;33m\u001b[0m\u001b[0m\n\u001b[1;32m--> 128\u001b[1;33m                         'with shape ' + str(data_shape))\n\u001b[0m\u001b[0;32m    129\u001b[0m                 \u001b[1;32mif\u001b[0m \u001b[1;32mnot\u001b[0m \u001b[0mcheck_batch_axis\u001b[0m\u001b[1;33m:\u001b[0m\u001b[1;33m\u001b[0m\u001b[0m\n\u001b[0;32m    130\u001b[0m                     \u001b[0mdata_shape\u001b[0m \u001b[1;33m=\u001b[0m \u001b[0mdata_shape\u001b[0m\u001b[1;33m[\u001b[0m\u001b[1;36m1\u001b[0m\u001b[1;33m:\u001b[0m\u001b[1;33m]\u001b[0m\u001b[1;33m\u001b[0m\u001b[0m\n",
      "\u001b[1;31mValueError\u001b[0m: Error when checking target: expected out to have 4 dimensions, but got array with shape (55000, 10)"
     ]
    }
   ],
   "source": [
    "Lenet.evaluate(x_train, y_train, batch_size = 128)"
   ]
  },
  {
   "cell_type": "code",
   "execution_count": null,
   "metadata": {},
   "outputs": [],
   "source": []
  }
 ],
 "metadata": {
  "kernelspec": {
   "display_name": "Python 3",
   "language": "python",
   "name": "python3"
  },
  "language_info": {
   "codemirror_mode": {
    "name": "ipython",
    "version": 3
   },
   "file_extension": ".py",
   "mimetype": "text/x-python",
   "name": "python",
   "nbconvert_exporter": "python",
   "pygments_lexer": "ipython3",
   "version": "3.5.4"
  }
 },
 "nbformat": 4,
 "nbformat_minor": 2
}
