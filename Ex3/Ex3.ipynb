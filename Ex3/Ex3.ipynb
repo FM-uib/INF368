{
 "cells": [
  {
   "cell_type": "markdown",
   "metadata": {},
   "source": [
    "Visualize Progress of Embedding on Validation set over the training process\n",
    "\n",
    "Classification use validate as training set and test as test\n",
    "\n",
    "Use Supervised learning on extracted vectors \n",
    "k-NN or simple NN\n",
    "\n",
    "User Unsupervised learning on extracted vectors\n",
    "hierarchical clustering or AE\n",
    "\n",
    "Which classes are most confounded? Is there a pattern to it? How is it reflected in the visualizations?\n",
    "Show some MisIDed examples"
   ]
  },
  {
   "cell_type": "code",
   "execution_count": 43,
   "metadata": {},
   "outputs": [
    {
     "name": "stdout",
     "output_type": "stream",
     "text": [
      "### Testing triplet_generator ###\n",
      "0 a: (4, 299, 299, 3) p: (4, 299, 299, 3) n: (4, 299, 299, 3) y: (4, 2)\n",
      "1 a: (4, 299, 299, 3) p: (4, 299, 299, 3) n: (4, 299, 299, 3) y: (4, 2)\n",
      "2 a: (4, 299, 299, 3) p: (4, 299, 299, 3) n: (4, 299, 299, 3) y: (4, 2)\n",
      "3 a: (4, 299, 299, 3) p: (4, 299, 299, 3) n: (4, 299, 299, 3) y: (4, 2)\n"
     ]
    },
    {
     "name": "stderr",
     "output_type": "stream",
     "text": [
      "Using TensorFlow backend.\n"
     ]
    },
    {
     "data": {
      "text/plain": [
       "['test/Brachyura', 'test/Bivalvia__Mollusca', 'test/Annelida']"
      ]
     },
     "execution_count": 43,
     "metadata": {},
     "output_type": "execute_result"
    }
   ],
   "source": [
    "import glob\n",
    "import os \n",
    "os.chdir(\"plankton_siamese\")\n",
    "import testing as t\n",
    "from keras.models import load_model\n",
    "glob.glob(\"test/*\")"
   ]
  },
  {
   "cell_type": "code",
   "execution_count": 44,
   "metadata": {},
   "outputs": [
    {
     "name": "stderr",
     "output_type": "stream",
     "text": [
      "/home/florianmuthreich/.local/lib/python3.5/site-packages/keras/models.py:282: UserWarning: No training configuration found in save file: the model was *not* compiled. Compile it manually.\n",
      "  warnings.warn('No training configuration found in save file: '\n"
     ]
    },
    {
     "data": {
      "text/plain": [
       "3"
      ]
     },
     "execution_count": 44,
     "metadata": {},
     "output_type": "execute_result"
    }
   ],
   "source": [
    "# Convert Dict of vectors into array\n",
    "model = load_model(\"models/epoch_1.model\")\n",
    "image_vectors = t.get_vectors(model, tdir = \"validate/\")\n",
    "vecs = np.zeros((1,64))\n",
    "y_truth = []\n",
    "conv_dict = {}\n",
    "keys = list(image_vectors.keys())\n",
    "for i in range(len(keys)):\n",
    "    conv_dict[keys[i]] = i\n",
    "for c in image_vectors:\n",
    "    print(c)\n",
    "    vecs = np.append(vecs,np.array(image_vectors[c]).reshape(100,64), axis = 0)\n",
    "    y_truth.append([c]*100)\n",
    "vecs = np.delete(vecs,0,0)\n",
    "y_truth = [item for sublist in y_truth for item in sublist]"
   ]
  },
  {
   "cell_type": "code",
   "execution_count": 46,
   "metadata": {},
   "outputs": [],
   "source": [
    "from sklearn.metrics.pairwise import cosine_similarity\n",
    "from sklearn.decomposition import PCA\n",
    "from sklearn.manifold import TSNE\n",
    "from sklearn.preprocessing import StandardScaler\n",
    "import matplotlib.pyplot as plt\n",
    "from matplotlib.offsetbox import OffsetImage, AnnotationBbox\n",
    "import cv2"
   ]
  },
  {
   "cell_type": "code",
   "execution_count": 47,
   "metadata": {
    "scrolled": true
   },
   "outputs": [
    {
     "name": "stdout",
     "output_type": "stream",
     "text": [
      "Cumulative explained variation for 5 principal components: 0.9987155621976924\n",
      "(300, 5)\n",
      "[t-SNE] Computing 91 nearest neighbors...\n",
      "[t-SNE] Indexed 300 samples in 0.000s...\n",
      "[t-SNE] Computed neighbors for 300 samples in 0.004s...\n",
      "[t-SNE] Computed conditional probabilities for sample 300 / 300\n",
      "[t-SNE] Mean sigma: 0.034451\n",
      "[t-SNE] KL divergence after 250 iterations with early exaggeration: 51.678051\n",
      "[t-SNE] KL divergence after 3000 iterations: 0.140168\n"
     ]
    }
   ],
   "source": [
    "pca_5 = PCA(n_components=5)\n",
    "pca_result_5 = pca_5.fit_transform(vecs)\n",
    "print('Cumulative explained variation for 5 principal components: {}'.format(np.sum(pca_5.explained_variance_ratio_)))\n",
    "print(np.shape(pca_result_5))\n",
    "\n",
    "    \n",
    "tsne = TSNE(n_components=2, verbose=1, n_iter=3000)\n",
    "tsne_result = tsne.fit_transform(pca_result_5)"
   ]
  },
  {
   "cell_type": "code",
   "execution_count": 95,
   "metadata": {},
   "outputs": [
    {
     "name": "stdout",
     "output_type": "stream",
     "text": [
      "[t-SNE] Computing 91 nearest neighbors...\n",
      "[t-SNE] Indexed 300 samples in 0.001s...\n",
      "[t-SNE] Computed neighbors for 300 samples in 0.012s...\n",
      "[t-SNE] Computed conditional probabilities for sample 300 / 300\n",
      "[t-SNE] Mean sigma: 0.043784\n",
      "[t-SNE] KL divergence after 250 iterations with early exaggeration: 52.020187\n",
      "[t-SNE] KL divergence after 3000 iterations: 0.200395\n"
     ]
    }
   ],
   "source": [
    "tsne_result = tsne.fit_transform(vecs)\n",
    "tsne_result_scaled = StandardScaler().fit_transform(tsne_result)"
   ]
  },
  {
   "cell_type": "code",
   "execution_count": 96,
   "metadata": {
    "scrolled": true
   },
   "outputs": [
    {
     "data": {
      "text/plain": [
       "<matplotlib.collections.PathCollection at 0x7f1a57242908>"
      ]
     },
     "execution_count": 96,
     "metadata": {},
     "output_type": "execute_result"
    },
    {
     "data": {
      "image/png": "[encoded data removed]",
      "text/plain": [
       "<Figure size 432x288 with 1 Axes>"
      ]
     },
     "metadata": {},
     "output_type": "display_data"
    }
   ],
   "source": [
    "plt.scatter(tsne_result_scaled[:,0], tsne_result_scaled[:,1], c = [conv_dict[i] for i in y_truth])"
   ]
  },
  {
   "cell_type": "code",
   "execution_count": 94,
   "metadata": {},
   "outputs": [
    {
     "data": {
      "text/plain": [
       "<matplotlib.collections.PathCollection at 0x7f1a5720b5f8>"
      ]
     },
     "execution_count": 94,
     "metadata": {},
     "output_type": "execute_result"
    },
    {
     "data": {
      "image/png": "[encoded data removed]",
      "text/plain": [
       "<Figure size 432x288 with 1 Axes>"
      ]
     },
     "metadata": {},
     "output_type": "display_data"
    }
   ],
   "source": [
    "plt.scatter(pca_result_5[:,0], pca_result_5[:,1], c = [conv_dict[i] for i in y_truth])"
   ]
  },
  {
   "cell_type": "code",
   "execution_count": 56,
   "metadata": {},
   "outputs": [
    {
     "data": {
      "text/plain": [
       "<zip at 0x7f1f48824588>"
      ]
     },
     "execution_count": 56,
     "metadata": {},
     "output_type": "execute_result"
    }
   ],
   "source": [
    "zip(tsne_result_scaled[:,0], tsne_result_scaled[:,1])"
   ]
  },
  {
   "cell_type": "code",
   "execution_count": 75,
   "metadata": {},
   "outputs": [],
   "source": [
    "tmp = tsne_result_scaled[:,0:2].reshape(1,300,2)\n",
    "res = np.append(tmp, tmp+np.random.random((300,2))/100,0)\n",
    "res = np.append(res, tmp+np.random.random((300,2))/100,0)\n",
    "res = np.append(res, tmp+np.random.random((300,2))/100,0)\n",
    "res = np.append(res, tmp+np.random.random((300,2))/100,0)\n",
    "res = np.append(res, tmp+np.random.random((300,2))/100,0)\n",
    "res = np.append(res, tmp+np.random.random((300,2))/100,0)\n",
    "res = np.append(res, tmp+np.random.random((300,2))/100,0)\n",
    "res = np.append(res, tmp+np.random.random((300,2))/100,0)\n",
    "res = np.append(res, tmp+np.random.random((300,2))/100,0)\n",
    "res = np.append(res, tmp+np.random.random((300,2))/100,0)\n",
    "res = np.append(res, tmp+np.random.random((300,2))/100,0)\n",
    "res = np.append(res, tmp+np.random.random((300,2))/100,0)\n",
    "res = np.append(res, tmp+np.random.random((300,2))/100,0)\n"
   ]
  },
  {
   "cell_type": "code",
   "execution_count": 82,
   "metadata": {},
   "outputs": [
    {
     "data": {
      "text/html": [
       "<video width=\"432\" height=\"288\" controls autoplay loop>\n",
       "  <source type=\"video/mp4\" src=\"data:video/mp4;base64,AAAAHGZ0eXBNNFYgAAACAGlzb21pc28yYXZjMQAAAAhmcmVlAAAwxW1kYXQAAAKtBgX//6ncRem9\n",
       "5tlIt5Ys2CDZI+7veDI2NCAtIGNvcmUgMTQ4IHIyNzQ4IDk3ZWFlZjIgLSBILjI2NC9NUEVHLTQg\n",
       "QVZDIGNvZGVjIC0gQ29weWxlZnQgMjAwMy0yMDE2IC0gaHR0cDovL3d3dy52aWRlb2xhbi5vcmcv\n",
       "eDI2NC5odG1sIC0gb3B0aW9uczogY2FiYWM9MSByZWY9MyBkZWJsb2NrPTE6MDowIGFuYWx5c2U9\n",
       "MHgzOjB4MTEzIG1lPWhleCBzdWJtZT03IHBzeT0xIHBzeV9yZD0xLjAwOjAuMDAgbWl4ZWRfcmVm\n",
       "PTEgbWVfcmFuZ2U9MTYgY2hyb21hX21lPTEgdHJlbGxpcz0xIDh4OGRjdD0xIGNxbT0wIGRlYWR6\n",
       "b25lPTIxLDExIGZhc3RfcHNraXA9MSBjaHJvbWFfcXBfb2Zmc2V0PS0yIHRocmVhZHM9MyBsb29r\n",
       "YWhlYWRfdGhyZWFkcz0xIHNsaWNlZF90aHJlYWRzPTAgbnI9MCBkZWNpbWF0ZT0xIGludGVybGFj\n",
       "ZWQ9MCBibHVyYXlfY29tcGF0PTAgY29uc3RyYWluZWRfaW50cmE9MCBiZnJhbWVzPTMgYl9weXJh\n",
       "bWlkPTIgYl9hZGFwdD0xIGJfYmlhcz0wIGRpcmVjdD0xIHdlaWdodGI9MSBvcGVuX2dvcD0wIHdl\n",
       "aWdodHA9MiBrZXlpbnQ9MjUwIGtleWludF9taW49NSBzY2VuZWN1dD00MCBpbnRyYV9yZWZyZXNo\n",
       "PTAgcmNfbG9va2FoZWFkPTQwIHJjPWNyZiBtYnRyZWU9MSBjcmY9MjMuMCBxY29tcD0wLjYwIHFw\n",
       "bWluPTAgcXBtYXg9NjkgcXBzdGVwPTQgaXBfcmF0aW89MS40MCBhcT0xOjEuMDAAgAAAFBxliIQA\n",
       "E//+97GPgU3IAA2XOop6H+EVsfSQUXqx2aBk6gAAAwAAiYGOFkC1uVpxUAAA47z/wlUf4ADlomOE\n",
       "BY+fCza5a63RQOkwE3hDKKUV1pnMT0uOniJ1HnJoh5o+slEbGMC+1/wIK4fvedDfqUUEsohmvKmQ\n",
       "WNhBM1OI1Yi1soJMy+E4qYoRheR7YDxsLKWTDREGkkSc4LFFixyx8h2fNbUDHCvwnQzoYIHpOZW9\n",
       "4RU9NyOtZTpaIPLzKzJ5UACBexHq99k+Xqzv03a5LJs8H2J9jUfA5VGIdx2YyYqzAPLoFTFF4Xht\n",
       "BzFIbC6DwNiPLJuiGXdKWfGvrSC8VNlLKxbfWDSBFYh5dGVDG4ppcmDZKurTdpl/AHoUWcDtL2uS\n",
       "1BkSyuVrbFkr/wcrcnQPeDtIFKpephsD0eQwXRIYEB2x6qDpBqCFLXT9me21AZ/9q+8Ryps0Snaw\n",
       "jDrSm+PUD5+AiYKRenTlUncTFEm2vkg1cUCkNpGy5HvJd9wvwm4eOti2/9GaEh2dw+Z6Bdp/FYy4\n",
       "eLh+ilMqyOXHnYl574ywzP5o/2UTxdY2cul4AA4idypik132bSH/e6IV8VT62mxbPS+l8JxO366v\n",
       "clF5Vr8vrp8gaDPfLHLrkcQgjcMA8sJZtk/zQKho24akiJILPGLsMYa3cqYHR1n5otFdOQj8Ox4p\n",
       "2myjrudKhsJDJZ7AjyokH9jpt8H52Y/ueKRNTDseFsG7IdjBXtm6CRq/+Ly/I/TKgUD1nXaBwGSB\n",
       "lGGhanYH7rCtxNZPW0G1O0cArvXA7eOTaSfmVtGn4YJ7yGn8Wn/n+bDKZNR1EAh6CgwyeQBpvUmT\n",
       "/08buvrPOd0FbGcCfa7q7AeCBrTlOH9VmAM/bygmyQBBcuSKv8RDXP+iGoiwECNGDTFBAyBf6WJ9\n",
       "j1VtvHaE7lWW7KVjCT2WXReR+PAC3Hh/t/WAK2D5Zcg+0IzT7RXesHutSXiNnMfgAAFRNHGbsvhQ\n",
       "+a4gjWYNtcKiOmdiIWHKDCQpon/FJitjKbyjLhtg/fBD37+69+ZmpW7JZREKJBJ+n8y5KbYu+7jt\n",
       "Y87vtUncOtDBW2NsUShMut3erVFlaxnBdNpAdr2Ng14MHu1/xrhMfN2vfl7QAHEiTz3V/2LZ71Sb\n",
       "Mx/tjJABTsKVMJ3m3Cl8rAZigeaFoifmlXWZ8xqLe/bIUOG08XGB1DsP25tSpX3+ncLH+O3cuJkq\n",
       "0dxuk9eJfmPtYUinbXyk0ylAsQAGxgtMuIs6rPw2/4DH4jn7yJCaLUMPLK+Oj3D3+aV5S3XovUel\n",
       "ox6KoN4UQZZU1XTwQ9cRsIwsf3bmopwjBn+PxmqVyspt0BkU1gtuT5B+3wii/rgi8iUtv96Lz2Mf\n",
       "n9MTMSltTKsA2o/qfKQ4ZN00iwAL7KNGIHY2Went2BIiY50S9qQnoI1fYSTp4T4VxEwv8+QSICl5\n",
       "h5Bfk7YSIRmMOXtoFWirArkgfCqS5w9GHksJYZT4Qio+d59QFvWBoaw3MOq0FbX3GOwGOSiLA3kC\n",
       "rCO3OrYogP3X77xnS2lxSA8vu98MYUyp1XJPoNHCCkQqa8Wg7QnR0I6/Y/UpQ0HY+i2/h3orU0PW\n",
       "/Be/GYVt1+6vZ/n+ZGFSqAhgLzx7a9+9vwaMSxX9gXHNy3PPC6M6ll7knE0siwGmN8HKzwLWx3JY\n",
       "55ZagP1rw4Bvs/q2o91OSes1hAfDHC3/K0X2109rCaRzADSdI04TcXTwh8M0XHQxbRjbi6YeKTfC\n",
       "7uAgNMx4aRE85RVMDAo6tgu8j5DxdK9UhJ0jG4zSRwXvPefvwMjR9UKd4+Ps6EqqkVgqPKp7z5i3\n",
       "KtvPLG4kX/Ebno7391ApxopA9pIppPAZJJQU/eofcHPwt8fdULMb39XeZ3lZLVvtmYGkwURSUTAn\n",
       "wczoyLv4LqHeA+49JVzyppx0MzIDCyGT0CqnrEck3Lz6ctqFdImo1xPwuHE1FlieMf1SNg0jLLtz\n",
       "AsuqqYe047LrY7N0oxbukZEsHJ/z9WQgf5oPKh1xwdXv1Ef+rmHOApfw4ElvD4C3nKZydkW3KRwz\n",
       "3xD9mcXROfQcYyIZx9V+3JR9l0xDzt97E/t5u32eLw+OdFQRgn6DuKsmTAA2mIThKYA8BDC2/eD4\n",
       "zTnTQrkwBbxTdJlzLAT/XRXrp77iQR4reciS6fqfw0lCc7R+pBIMF8rOXWHFdhtbCRNtirjfuUC0\n",
       "KVQLPOuWqOmJnx8f2G/oJJfGjUPTd/EtxejteaCn8DUniITVK1eklQ2uzySaPzMIJ7QHDCneMCgw\n",
       "xF+qz9KmNaDxg/l2wX/Zlo5ZbUG+N0eHCwtsPnyN7ElvgYDTRJw9tNwf8puMyXEcc53R6+gbCHzd\n",
       "uv95wdbcwZzPTtZ4hk/aAVPF3WuRaxYo6AX41sCn6IMy53n9r8T3vjgZO0T/jDfNsMn9VLnOdKxW\n",
       "HdvqrYAcTX5cj8Hx9pjpVNr4F5nY+FHjASa07ON6tmGEjnpzdIR/a422WShkH/yvS//r4J24u251\n",
       "7yVWi+4/vg5sgXPqPGASc3Un2u6KN9gkgJqoLf44SMZ2Rk0Zw8Vj0WNFRz6DFSsW4ua53QKWc+Sl\n",
       "QPNWH+xmgfrBYuaC8l4Fz50ntPNj3RXwb7+pzSHTWkgdowTumqTQFz+X93eigwBoftCtt67eLugg\n",
       "Bn7VAo76Vl3etr5/6+PF0dCP59BOUW+brK3K3neByXphtLWJ8zn50LKal75NTt8X3l22liUyLd1w\n",
       "wVc8EVt9iQa8GbSzEgTWrAXk6Qxr9y/ny2yw7xVkVp5qpiFs/n2GBsvOKHaTihEfM/OnLn5Vk2Tx\n",
       "l/4A+8wTHsLwkUoxRc874fdEV91zy7rucGjiJlhXjzztPUREa0o0PV2OWJbmo1+dIbMFppR/VGO+\n",
       "ZFtp96BD8L5eN2pxXHFwI+oFtohN/uaCsSawxKKEq2MySAlt2P4bI7tnFNOkKNxTSe32BQW61Vu4\n",
       "BEu5aarx0iV6Vz5cErL3ZV9e1cYExMCHxBsUyRqoB+6k/dpL+hQRtc0fb4imCRXMSwppStnA4FMQ\n",
       "3SuP9Wz9BzqlTKFUzK/OaiHOtqJRr7ebCI0Kbmz8DhaVq/8TtFwm2zNW8TanjAfLap8RP4y8vQII\n",
       "Z1s0NpXBPtQdJv941jSbm5qmxhxK3nkeVBENlKihCCN/Ggl/hSmRhkGs2ScjYr+YJrrpog+Fd6WP\n",
       "/xAPKfReQ9Id4meVbklIfOTM6QMyUOUhQfQ8z0zAogh1R9FfSW10L2nu5vewT8h0gliFP43PEQdr\n",
       "XAfqZBzYnLR0vsmu0MIcAkdMaCnvSlsHIogIClq97l61gReFOsl9vc5esKgFNQuxhAVD8XF2wO/3\n",
       "L81mQQ5RuwyXFwkfwAt6ueXMBVaSMxOmJgDifMPhR+mdcMIjY3mKOmm+Z7cZlC+Ts/GjWNuu8dlu\n",
       "wVYrjjYkqHgoIysZkEnayoTtaNWAvzNpigD+PyOJ9aY6a86vVKOanCsWl4K0NXwvLvachK49WUEv\n",
       "/RlWnoQecQ79P+zhrUOnDo/ttCYwY38bu/wymM/qUMi//8za3K0P/DsAmoGdmrsV0xQOc0FU+h84\n",
       "r0BU05IgCyYizbQCilOfdnwsRGls6CGyuUdYamWi1rVzc/i1nQraVxxP33Q4ixhoaRYFHMQa/set\n",
       "wLWqYa7kWF4INWT8DQYrGboAy7N0Cypw3aEfmew860ZUPTXfxyTgbro7R3y57YOsqvFZFWApS05Z\n",
       "GYif+69Xw3VFR+/YUh4xvZf6kgL3TlQ6nlXd1xLpIdjEnk9joTWbPNzz6lodSVuLCZjTq3eP3U5V\n",
       "WptOuCF/pjIe9cvhc/613qlAl19q42p4E8o8v4csrQHsBEz2X2wWs3/nGawbbDy/1KXmFAF9wf+U\n",
       "XN3P/CfZHHoaSEigA6M8F7J1rvAMd33YSVqIfhtWlquEMJ8bMaYhqkV5G3ISgBOCfsLR8uoayTvZ\n",
       "rWGdNxp69TEtk/suYTcpez4VITbcrGk9IxWGhDS+8r9ttfjKezS+MDfPbm8x5G6IFW7wV61b9Vfz\n",
       "vp3CzldSibpm9klAJJ4N+6HwEs0GiqDo6hDWxImu2/HzZLObGnL+IYsjMx3eo2G6mxQrvGyuccxU\n",
       "Ksh/JUDdQyEeO+hzMhoIC1bU/gydms4K31I6qI4lJypI/mG6N73ZQMqwgMTQORmtk1pI+mBCcKYZ\n",
       "tm0WmrorT8y+1QDtJm5RRFaA8SXQriO+O1UynH6Xk2ZhzYQ3LxCvI+NkI5VjgJ6k3h4gzIE8OwO7\n",
       "+iYaCjNcH3DEEj5givRfhvLwNW4Sb9MkBUYNXg6rovDQcco8ET0fySYWmqEi16q/aCclKzZU80/P\n",
       "PkqBPu8VCmcRg0QlQ7N8FqHfiQmPqUAZTZ8l0nruOVwnejVwaD7TsPFZipWeIVuY9jJvze+/wy6V\n",
       "CwX4SN4rTjsJOG8gCtiY1t6SqLIufTQLebdWEl1yEj/4kmc+A5Xe1DPAeY8k66SzOtIZ5UMXg1aO\n",
       "tTTnaM05ZZ1Um96JWfjbZPMQFUTtxNjqRBrLioozZXXJKHXh4H+GqjMn+ttJSAyXi1+40XMVyMWW\n",
       "z6rXKwqiGuOZv5SmKEgzVWY1P1t6/hYLZiILkLuZKYwJDoykFnlLiQUf8W2NKAeHy2f/Yckh5k9I\n",
       "31Rog21L59vvu1Ac/ttrInlT++O055ygRshI+KPSXsFvo1dWjbgPEymSKNrBd4tmF1fa/O9LLvKu\n",
       "MvvlIfWBWenIdx1ujaeCtJiOaGAqFfJmQ2BSB6e0+KYLuaLpdhlMz9wVw6sgL182vZD5K0/nbhcO\n",
       "IdyVTNJ9QFyV5n5LL6nquRj24sGqbTUqgL8bG/9IfAUf/auwL7enbV3mJnQjsO5sNw6GsN318028\n",
       "CSxpeaS+WWbLtwD4aIRhFeKSNx+uTEs8/MLDBp6/zoyU3egmjqGAIl7kDWd9RKJ5MwaIJuPuDhPS\n",
       "jdCPbux9NK3lyXGKrMh/OqTQVIKM8xs0t+cq1ggmsczHwbD+915eVjnU8wHyMdPpDzkNl1vhWEy4\n",
       "aik0kjs9u+ZNpFgL4we4WaJj5uw0GAXJHB7CSrYjWa0Aa0YxyqF8WBr4jDjjPpbv5XAnakxOBQCa\n",
       "TEmcqPNXy2rJ2XZ576mRG37xT97jU3ga27C+NzDctcOWH8PTpq+ut0jyjPc6Ol5EOJ2K4dTTMGag\n",
       "bVzmQ4StHxKloJZpitlK+1eA7ePuwQGxPJJpUmM+k875FsO+KTZLDJrDQjInpGrYarllw5OlgY+M\n",
       "cQiVHV2HKVD3Caib3F2UHwv06Wu5Q2QEcRNu2i6fW8fqz//tRl+z3POSzjWwUOm9Pd+E36Rzcr7W\n",
       "iPq4XGKZGGiSWFWV5+dvAU1GX6wfkb7jB9QYPJcHZ4lqyeegjrzFUxPFl9Pq+1MZ2XpxHC8GE/R6\n",
       "djNoqf5xJsTHWtlMZqy51MzJQn4XxmLzbnVY7Gop1/dWOtHlXd6euJt9uNi5haGEiqtZoN2us+Df\n",
       "lY5JSqSHOCHdhWn5+UiZ7/9OAWGDvwYJeDYCNogzOY7Cjo0ZMWByIEK9JxnISjIwi36I9Gs3O/xL\n",
       "UCV4gz6xaP4fah0ncrssnOKL8dSFZv3MLsZrp42eajHrEghdhSkpEP78O2ymBFwsB26hVsj31XL3\n",
       "qnaQQD//1IH01WOUKgOC8mCcSL/hx8+WLuLC6qI0YmJXTCQNu527KPZWFz5IplQVooNd3uuTJO4l\n",
       "riIctMJd02erW29ADH1b+hlLU8zb7+rYoGb/w/fo8lNNK7GkjTAFgwFd387Defi279PCXrGHuSRy\n",
       "Z+WapYbvAzIrRzF9IUfad5WqdRz/9toHvqInmjRsHJ62P4Wrwx9wXoEdy7VCfCcDytA5WbybKrtL\n",
       "X279f9IFBseH3RmiGisw+3LnEvS8jVgrv+BFKwslNsFEBxQAlC/LnO2s1CVv93PzX2NutawCKqwH\n",
       "ZUBJfORdeznx0OHeqawJJadm487zn+l9xuBhe5gtYf1ZkhutzhnnnYVhA3K4eqyF7HW/eeKKyEtM\n",
       "AIEDH9m3B1JwKK91fKNgemWIer5ykbZl3Ph1a+zmw5T8Pev0/qzAlnaP6Y3hV5nVn89YZI1A9kra\n",
       "sfk+3se6wSUysB4CltYDLRraoLZ0ILs/h4enaLG+v1zg3/yiBbgnKN7XxKKGUPykUoyp115DspX7\n",
       "GDDOif+G9YdBWNcfr8s7RblIOP8dX8fuPgedrP4HUrfQDHzTy612IXS5enyAGeWSvsgfPxC7+qPl\n",
       "0mj6SH/kQc79SA66ml1cSo0HXsLsam9IviX0CuAjUeSMsq/gWOxBsix0e768A+16eWs34j5jSapa\n",
       "z32cUCoKbLCYHgEf1GZw7EmocGuQsYSgn4w+kfLAlgEiamae1/ZRFX6krfv5PZcNFesSl9Zwhr6D\n",
       "C8Mee6H8cShCEvJRCM7fznjx+ug//8X/7LnyQeQcvwWYapjsb4Q6bXTotbjD9ZDwDdZnWhUdAzsX\n",
       "ABAgp9OONv5btrSY+JcfCyUw3Zu3S+YSDtk4nDNG6KSNFm/PzOCQin1q0Ff9NZiT76zjZQDam7VB\n",
       "gUh8qR1tpCNhC2ZweaoT+66oLjv7a4LNNCdmQFuHzSKZPxQPB9DU8qzJyD5nPHp8WTmnJwQBcsy4\n",
       "e3UsZQVjASTfUH832FBIXxJdtk9m5mM6bYhQMdwrLFZTBptwf9vaORzUbMBLdiHBnJdK6ESfzyKI\n",
       "Q8GlpqsMr8vzcM/8M7gz/dY1mTkE0N7j677T0DqiKMTUvv9K2srzFSp/VhmZQlXJoNvjHFKKN3Ks\n",
       "WY/+EbA1ukfNBPTDWH9JZJ3d3CzJpWL4tvV44LZXXHoV3Fe9Y1xq0HDDGmw+Gh3U4Bko3IvarBqb\n",
       "4w5oKv/1h/EANHAA3YEAAATdQZokbEE//rUqgBpY6agA254Pix6c9sCvDvWfzey1MKW6Z3TViTYF\n",
       "FeMbTx/hVDUuvHoeA1gkz+0VuDCG4ekE6fJFpkUtCCfb6gW2N8i4ug42pYssDpNX/Lg2E9EZpP7t\n",
       "nyUWW+YKXjUoHIeMIWTEKNmooIg4TwadpCHa1hzrHyvnDwZJYZgt4/EQuQ558xZU4uxxrI+pf1OV\n",
       "Ghm5ROk1Hxrc7nenQ4I19hvJAdYnK2D+QACeuO9CxrQD/l38Av6IEbISB+z0fhR2smOhn4Zmof7u\n",
       "p9YafLoLJ5VPQKD445Hts2Y0Y7rIpUfzRbYKYdi8XzrrEd9QFUzk1iqzM3GgwWwclAQo9x3BR5/r\n",
       "+iQxvmqs4Gb5bh/9hZQbujBZzWBmD/jtZBwtZ2eWQfm+nvXTHLnLYTLlrvF4NI7jxTC2oeGraL5Y\n",
       "MPP7Zu1Gf4rzDuD3657Uq0/Buajbl6a8YyH+TWXd8Xo32VS5KAQj3yro/9PQuaSf/zTebz+qqKES\n",
       "PkDyBBmeOPG4Gou3boBfoHaCzy0Nxi/SftHXvdQdHOWg2bftbvKwNQLjD8b2I2yTFTHdGrM3oeal\n",
       "HswPxaGDw4gBDJvacKHIwtNX4eXtI2OOGfRT7F+n2T4ow21VtRg5oEhIOBmCq1TSqUJcW+wrurAK\n",
       "80fddaeFAY1Zcc5S5UCcoFLnBo18Pl2peqQK9BWk1G6rOh7PeAeKAuxONJjt4YSAuijOlnO+W3Z3\n",
       "l7KGimhI2rZcH0wb2qXVe+t1BNJDrYrtMBnm01W9WTqd+cvEuPAf0gTPw9iWsIrhjit0YX0tKiK7\n",
       "d7D0op6fjRGmLEOsS7AAGDTxTDPmYvzi9rLbybYaSmD6BUYC+trgQvRdPsYLNiDhD49IWBxKA2lr\n",
       "RgOFwhlDdReXXl/SMLDmP4McWxoARsH7DaO1ut7kWMHmzw+MP67Cuzq5fXiLTSkyD39IodIoH4cg\n",
       "vQX7g944PgpLs2Z+2eiXIkUFo1TA2FfL7ekPiCZuzgH1Zf84iSmkuCD51Gtd1oKmnq4qcayQ9B+B\n",
       "TmzRrKth9euLwJM+2ROt4iHeiI3sFdhRdapwlr1bUWM6cGoCHvYVwACoPmlfLBaed5ppnCjqgNCT\n",
       "NuqoyNopvGzOemkENGXTwxVCEW4O8ZWbJam3gLoEJX1m0Pn937LQOOx6S8gabozF7tfBVOMKq8nZ\n",
       "gc8QmRxBRjg7u9cHD3EOpDh9Pg56mEgidsgwgKwijoiL8aEx4WLNiinmZ4X575U56Fr3f/KzqqmY\n",
       "60KIdSuYg5GOyuZsUXjbxGQlcL71krzygvmcHHV2K8HZ8SWCYlQkzBRSQmtx3jXubpDxGtmG8liI\n",
       "BHIWBFLzQsSpukaRB0OOlE62KgIXJlspQdbdqq+P+zGZQYL9dFpCuKC02AeA0sXIaU4yG/w8JXAr\n",
       "UKb/UWP6mB/BVRhHAQvleUUHhW2YX6yegY/iwn7vbkcZpf7lTgW/9LoCgaFCsMA/X30a/muTIO33\n",
       "0IxliEtShKVp6SkaPtw5ijkV2bEaZ4CYKLJoLhIUVF02EuYR289hXPHtFSuPA6hdnwH4+JPHBERg\n",
       "yvMRA20jcVs9g+tV08vJzDog/YQlKi8FfnvEm7F2SNwS9mgp997oCrgNCc5yLmVTjT4tUtqnRdXk\n",
       "wnzJeeLrw4+oAAAB70GeQniCHwAeMB/FAaCchZDpMBHwK4dWAECG0uv4n5V0/HvIlzPX1Tk80Y0o\n",
       "rT2/yObeTnFhazwK4ylD6D1FtaCio5uBBuYnzBp1wWzZrYBJ+KDT+P4a8K1Rk/dE+LAO9JzZTPhT\n",
       "0m8YduESDGlWAKmDblM+2UJU68tqF1fEY8dg6Ya/wcCELJHrn9qdF/t1hQDvwRXiQ6TT8FRbvWGH\n",
       "w9Et4CtFFPenThqg3PjkX3/+Qd5jU4yH9yaWzvZwwAn+QsWtRrA5fYjar4HzOzm+3eQMDjB0vSm0\n",
       "uzsl5yUFhffD2OI6K9BFV9QycYB4NLkpRIhwErlK9y05TocF8veysQ/4cVrKSvwDa8J9OdoXuIUt\n",
       "UDnGFFIHfaFXNEF/ydcqt46CYLBcpoukZ1MQuu+OOYFDtnmztHeKn31DI/KXRlu8LNqCXbxgsYCC\n",
       "FgaykNoAkxHBZmuwiaotv3+XmvLmwarlZ3Qm3xBPUDIJOcke02RQRPDVqGFooN24q6/xktP5t4gc\n",
       "HuN8RXyohjhUOkx1f+Ew6+GNTxw6igBDOwuhsrhjTI0yyIOBb1BZcYLLGqAUlgLcZDlSdkJikMDp\n",
       "qjM7lQYL9TdQ/bCoKLHLr+eSuWu9fTgo2KVZTAYrJk0YtzigL2EGm7Ll3YCSjhIqGDBEwQAAAXYB\n",
       "nmF0Q/8AQt1/fOalwAeKpXFuRRuPZTo08dyhp7MsVsP4598301DpeDgg/NtlIrvRon97u02d+0vQ\n",
       "JXkOC8q5jdGlFNQ8bUWq7A1qithl1dnLiT8QITU/goTwBjhfvWoXaSGhoUEJGBJ9EmUgN684jUpn\n",
       "yoi5oqfw1M+m7mTwbsYUcQwhtwdQ2Ac42uiYeV/2hHNKZ+eiWtCioH09xf6o4gKD+LzJzeAy1xpq\n",
       "L484IWj2tdyXTWuLGWaiFLxo15wyLAX349skzkrUi8oNVMEBrOEhweiylDvmFZTJp7UZV8gLrgvn\n",
       "+jdcJ+WtaC2cCVgSa1imuVZU1HJlnsUp3tqN300iPUA9xqCO0fKDvDw4U/eSbhGoEyjF2ciifMGg\n",
       "B2bgE0wLJofelyRqC2RQIWsuS+KBK2nfkdKxbfOF4+LC1XFpEkdlJbzAlZzlqd3ksmrOQ3+4ChnF\n",
       "YBczugPv0yoYIsyDShZQqecEp1cPeXtyamncb2BEQAAAAXEBnmNqQ/8AQNjby7EEG+qGzQRmvMMo\n",
       "Oh9za09+q6ayOkML8AN0QUqDs2tQ5yS4YaNfUIi/w5Tfjzxe/d/b9SqgwkfLjxnDCfh5mQuTThwf\n",
       "pjJmmhTs1nlf4nOZUPgKDly+IyJ+rkS8HSJgfqr3jq6O7Nk+87BqFAVhwejLs5QEAoQHl9SV9DhQ\n",
       "ytq6AjMzwyp7p1Uuwb4MccStAL4StYjwqxzuDQvxTwBGKzRNOii4wHzlB8e/HQtTFxGqg0IATDfR\n",
       "DsaAQvC9q7C/egdkv3iDHcMM2W7l7WIKIh3sZn2HWYrTOkzuj2Oi7oRRrvgG11PY+UIuVoEaaYPG\n",
       "a2XP75JkH8kAJjxqw76YEb50qMt2kcqwvcuIPFT9zcizqCZHH/lnsj2WD4L8zIGRAGMCDDla887j\n",
       "Iwm3CNQllLoE2+syfbQivK2xDDYaQn6IaXxSUmDtkk9AlnaCE640zoPoe7FJe1cCFmB7LhJelMIt\n",
       "tNWZolEAAALmQZpoSahBaJlMCCX//rUqgBo+FWgBVYBLggsgdZ6hNmH0yjBNOrWV5HWVbzSiNRZG\n",
       "pheBz3O9ZjNfuxaHABg2pFD0uTQkhgTBeTpl9fZN5eZJXB+zelH7rt/ny2pqnEdNEV7YW/UDsOwV\n",
       "qgYi+i/HI/ILZ4a8/LYA6t5+1rv6etoYNfeep2Wt9jIGDQK7HkOn3rhvCja1HI/KXO0u0LIgPEVH\n",
       "hm5wZJEDrS1hpPOjOTiim8ZDQ/he9+RHk6vsr4vu1fd1SIiuXbTQtn9saUafm4N/sHM1dvOLmfvL\n",
       "piWjQ7gsLaFnWRFD5Zgfz8H3AfreoHcsiPcgQZeF1b10ZNQtt0fYtPjelxakE3O0LO9QvKVAkTmu\n",
       "fUsw3SMgjoZxgP2kLY1GR2H0hd/O2W+hnsp4KKt/m7E8mSAZn4HJcSWGGpu35pRHJVnJoMLXUzKR\n",
       "l8c/4frHgANv4WmPc47F6Vp70fgR8rzW5/6xadFrNhcwZr5x5bBA4OFTIhmngOP2CyezuciV8XPh\n",
       "uv3KsbTJrSmmfb+wMxNSyOO+rrZwPeXVymcQeNzNFueFo6q89bXZF9a0VKuNXImgp89dphQF7Rqk\n",
       "hGpA0Wzu64FqBhicYhgrAoiwomRAymAMD8ChLcQg+koEyz+mghudIz9ac0kL/JYNs8qOLqyWiF4W\n",
       "lH/YTqvwMrPtIthOGlgNcrI7WCeIvgm6ssfyCOBB+mtbS1GQV/6wPAJDMHd0IoJJ+Hwt3JcvT5zX\n",
       "/G84ED4k1kKNTsjPLXnsQxdnc7cJrr95BvwJYgmYBaJthy6TbAn5NnGg4n6qh4Ttm3+1QZ7O2vlE\n",
       "vN2YR65MrHlBy6AVB4C7D4bWg3ODf/dxLAjCbwXUsHxAx1UqERlufUutVM+jNOw6BY7FlRzqJs4w\n",
       "fRrfHgAqIwn3Gk6T6zahl3ZdHJJvLEtvSY9nR5480r6hFreVlix4OU1FvYUJLsyZ9GJ+NlG7yTCv\n",
       "0wzd9ex6Qz4EpwAAAcZBnoZFESwQ/wAeNxW44AC3SeB0i5ZGPQoF7xB2H6RZKgshqjTn+KLuggfb\n",
       "1amOQstOUIbTJBYksL6tddyH8OKFvByATx3HRonbIlCsI9sjtNJB3vU3N9KVJ9ZhCAmnRdjOsOGB\n",
       "eRgRR6A+4fUwgt6Xo5nNfMjcwQM+CC5zka3WwoyK/25a0Uu6XkDVrB2PBtFkYFVJvKUCfkT42gWa\n",
       "lHOSV9PjdHNAFDSKNhVWUyYPtY24VH3dJNs5b95t5tcVkhklmdrIPkMak8hfGiC1tkwyVhdshGgo\n",
       "/62lLZk+XYEnWXIE0PkocO0QAgsRwf5FORbLEM0mxPkESgYPzH8AwwsJC35CufRCjeIK1+bdWI4J\n",
       "u99k4Di2RlRdKJos3Xx3U70VGAS7YSJbdJucWyNvG5B+j60Nv7WWB2jtCTMlemabTYVs39HGVJfd\n",
       "xDeAk36J7QrXJShWeVaCiis99cdqwR6j8nImQwZABIobEgZaZJ7Lonz9LQ2Ylf5QuvIPI0lLw8jW\n",
       "baLSj0U0qDoA4yI09lsB8EgLcemFMVsLZ8QD/oQskRP7tc7y+vYXP41fPSjzdD3bwC9/ZCCvfY1Q\n",
       "W9PsMDCsaCcPlrxBAAABRgGepXRD/wCff7+QfqDr0vMaLNcwuggAAN3VpWRrLrNmsD/JTH8vfS7g\n",
       "2UcPsLRI3cZ81NMv4o8C4j02VYvZJmuWkiLMEg76W4OH+cLs27OmYXVJD4azn/gASCxMbMQs0/jw\n",
       "q0v1Vmvfa2QE2LHXxWEZAx/EKYuXVAQbku+NTLioZ9HMPBfUuAqVNmx6lUjidBqXukHXXXCY1+fg\n",
       "Q4KS3KXl9MLNm41xUSli5Y8jhd3ri9xzholPkgXWkcPtJOMttBZ456C8C6D/T2ekmIWIgJjhrKDZ\n",
       "ERmNYqFHnCSapmnTWUcAKhUaScuLfonN6ZFq7EFAX8yDgFjlGDMoBTvqXlBw9noLchaatSgDixZx\n",
       "WFI7+qSBOZeRkyOvl/yPKwie6n1qesJ36vs8FnsNL0CP7RvCnaRZkGtmXdX0DczeUFmE8YPTXcW7\n",
       "AAABXwGep2pD/wCfTR3xoPeetquCudiZhUiy1KM/dPQe8ijAF/QH4bywF5a66+D2ysNSnCF38CZD\n",
       "6G/K8gHB2zxSh+q/JTh35IFYIW1gk9zLD9bbSN0Qcp+8ZMNDqSrxLGntWjPw/eScotvUWmUYUjpe\n",
       "T8OOPVEG77cSqI4xD3vyNM47uFBv58+yfd450CRDBUyTkDXCIovFboW2BW3pk4zINEpKmSKybYr8\n",
       "lZu8MxXG6GgNJYW/bagf9Oot2xQLI6jaMReI1/hHnDQcUg8cnqP6A0ENCSuV6oIINm5wE+cTwrlU\n",
       "G6j9AP+mopgE6f09yE/qoKFZ8V98QePf50vwd9K8MDblPReeMmKHBV85lVY7pZPZJ30xxqbjPYQf\n",
       "4YvzKl1iZgCrKq5Uof7oooJ0JCeXvp6h19RixwnRfjGQEFyw7lyRVBEvrsxWUhX/kNwSEEpH9gHV\n",
       "ILI4EzwnwTUl+F1TygAAAelBmqxJqEFsmUwIIf/+qlUANHAjBA1W/+qc5azAB/LY9zdZzo50vPWZ\n",
       "1vP8sWOYbyK9kQAvAlcmrzWl0hYXn1Yk6hooRA5Z1ZIykL15FtVe3E8ltYvMT47Z1ffPZh7d//M/\n",
       "lWB4Pl48iM+tHph2Iw75m47i6rIRTZ3KdmWDh3k6CiM7Tmuk1QYYvypajnqbWtgITlL09lyHG9z+\n",
       "bHwMlUNIFFCKe2iTW0uk4xmv/AX3j5aGECcMvJH0GOcksUavkEgOR3ezhxecdTgwttNR2UwVXMAr\n",
       "cjJVMvOmhDbBrQt8bwIxLAsgf2RO5ASxc6wcSUGRFCA5ANGqBzTGSpl2QdcgwEFK8bvgbzgk+h4C\n",
       "w41tcQ266nWMff3OXzBitHLcPU/sA3cncm7mNLz4Zc4f+JAlk1mx5888UHcL0RPo5hQcHJryTr3p\n",
       "UBSkJm9UdPaW2gTmppItJhQHe74O5AzgvudBg/7O6PD0uLxz3nc/8ekzY11+usPZ0ibtcxQ0aCCu\n",
       "L/4M4jDSYWncWhua+Ws+Ji7t4m8j7uT8By30PUsOKGo1woTa3jCCJUf57WWRZpQBCDRIH+jyGg8Y\n",
       "gY2pqiobVSmRGSSGCEIIHrpIILOkwReyaOEfpdvaVkM0PONoSEhGNmJGztjz7XlJBhgAAAHKQZ7K\n",
       "RRUsEP8AHjepakk4wABu55cWRQIaYJYbGvW/QDRqWKswVXaqFwm3Ex8jS5JxMNBEs8uzwlx+qngz\n",
       "IIqOG/w6QuXpGlr+/ZldIPEvlpB+mh1SFZ//t99laMuxtukVcICZGPvYzhLqHPuW7jNHw7dikRkv\n",
       "xSTT+3dYucEauK8lZe1TrjwZQoKHctijWNBNgmLzyA4KXXwiqi9/Ua2aNOPQCSB5CU4k/3IhDBIv\n",
       "g8GW1W/lUPRRpQNuzFuUMBtZ+VA1oUOU/JXtNIcUDl5+N3noZ/VmHckvZLJlmAJ/AzHxeoIb+je7\n",
       "4ihTs6ARsARDM9E5XyfL31uLfpNM30ufoLb1c0RlEkk1aGcauQHVAXW+jmoWthrtiFZYRuZoA7tp\n",
       "PnyOy+cC3R4b6JyyC1L4UeQYUj5va8bD0ic7qBRy2jiKtKlw+0ckFLMOUJdalSWxh7oN/mKFoPmf\n",
       "TZTWVE8MZSafOzHFXY8/c6jzwj0ewNqFmGcVQjvDHHIsCPi50sXjfLd5gJu/MFlfSWxX4kj4yMZi\n",
       "vrXbIjsmT3u2SrLZfuQQlWXI8F+pDQ+ns+0L7VGOXykq0BgSp7e98k93cb/+p5eXXFbILR/yNvEA\n",
       "AAGbAZ7pdEP/AJ9/nTAXx599AB9BxihLCSQxw+hYGmsV3O98IG4gUjne6uw+GH58MEHRp8nO3RKu\n",
       "kI2k53kpZtEsGPg+9mC+4I0NnqH3Rc5ynRy4dTZmasREyAfqXqclX+m9RhJ396iqvUuzftxlTsj3\n",
       "2XVS/fZi/73+scJNUtQdQTfq+gD018RHG2ojORVykPVHQb42X5z6fTXJr5pgYPoUXy79PbVcONSs\n",
       "o7Tf0Fd4qKHfWzr37Pv8ZRkKLmlxBSXJoHWld717qFcCtUOvGCm8tTfjmm5bMiVM1n0kjvGYFYka\n",
       "es9g4iAZ8ZdWlPmHVoY3OZWW9HadPW0iFRclF6lhvq1gcSvk7+jSgZiXF25ZqXGdvLmcYHeVX6WD\n",
       "meQGS4jWgbZsnvS1/K3jPghu5KbpujzpP3JLm0NFxJZajm1tjAVYPJa9kI3JNlof6IT/VJrzaNmo\n",
       "9nw4TSEpMW3Y2SE+nCRhHjZNMb51gK8MHh4E5HO3bVJZKNeGZ97AmL6Fuo5c7V4d8aZlGzM9p3HH\n",
       "3taS5oZuG6LnQK2zYzCAAAABswGe62pD/wCfTOX6M2IwSOXkZWiwAzsUWEi8kJ8JRhW5Mfy5UOVD\n",
       "83WaSLotYYaPUSC7tvAGLZ2bwzclC0aegn0X/gVm3v3ml1RiFfOIkUCy5o5RBomxghuKXrA0pnFY\n",
       "gZGjBoLRLThh02jfXDHiQz1r95R0KU+PQPUyBu34MbnHf/F93xG6t9KpGoyMGjTtwLXPVDekIew4\n",
       "r9eXEjvn89sCpVdSTP+hlLK5ADlZAqiNJ/U0YbltChlqephYryBG9wamfhryw5E7iIV8lTCka4cV\n",
       "cFMB1SIdx24YIekES6pDwABQ4tYNo4CGQg7CUIcklL0uBAyTGu0E3SC+lFBiUzKAUUp68VED4XeS\n",
       "7lEjTg51aP6zKpwfxFBXd4wg1YuwcC7v2UTdpsVJJ5Lzm4kKpLgTgehlRBGBWA1hVIsR40vlTNCN\n",
       "XaP2nLuQv8Ex+McKTpkpVz4dRfjL6TbZmoc82tw79aXIMYHNGUi1RFOVzXb5NHIFjHLCXYXl2EGj\n",
       "WraCru8LJYgSj+ZHaOmQduJgbWZKCuGkKWLoCj0z1/yn8s4D8IB0hdL2rzPA3ll2O+8rPH5loAAA\n",
       "AbNBmu1JqEFsmUwIf//+qZYAyugycAavOQuz132wA5YAVNEB3YSr3pV0XH/M7w+3npKhima0dx7h\n",
       "umHeq02Sr51EM3Ef/uyETuYvoBZgvTHZHTTU2XPXlQAMzOp4+D4fkiTAbaVyabMeRAxNLaun7wC6\n",
       "sp/1HYyxKsiR4BYMg6cdFwpyCGQm+Dlys9s2pBnfSE6vhUj8ZZ7Nt+V5aX8rMxE4eCCxnzdjSLpD\n",
       "VxsDKanY9UtgzM6/5ueeB/ZYb5MVkCf6IYQOLjtaxl4QB4EDqZyg+nZHPryXzvWiE51mazI8TyzZ\n",
       "LSZX9NYa0FWXIpzloqE2ngAETsImYk9hN4T7ChJ+j4OO5xAW7XmqRnZni+WxQ9hrBz83A8EcGxzX\n",
       "InICi/BTgD1LSmVP1vFVk8WnDRXIiaP+lekZ4KeiFgqzNTBtF5RoM4ETZji3RfTGjlGqwWDnyQgq\n",
       "i18EoG1s5Bz/FkDqUcb/udWjGK/MWM7c9qPfCvNWVijp/HYDwVZIRkexVx7OJc2Gccd2n/Xrb10l\n",
       "cw7HweWeX3vK+LYTBQz2cta1wK7+Yq/KlW6wPXkiCksKNHJ5V8EAAAPWbW9vdgAAAGxtdmhkAAAA\n",
       "AAAAAAAAAAAAAAAD6AAACvAAAQAAAQAAAAAAAAAAAAAAAAEAAAAAAAAAAAAAAAAAAAABAAAAAAAA\n",
       "AAAAAAAAAABAAAAAAAAAAAAAAAAAAAAAAAAAAAAAAAAAAAAAAAAAAgAAAwB0cmFrAAAAXHRraGQA\n",
       "AAADAAAAAAAAAAAAAAABAAAAAAAACvAAAAAAAAAAAAAAAAAAAAAAAAEAAAAAAAAAAAAAAAAAAAAB\n",
       "AAAAAAAAAAAAAAAAAABAAAAAAbAAAAEgAAAAAAAkZWR0cwAAABxlbHN0AAAAAAAAAAEAAArwAAAQ\n",
       "AAABAAAAAAJ4bWRpYQAAACBtZGhkAAAAAAAAAAAAAAAAAAAoAAAAcABVxAAAAAAALWhkbHIAAAAA\n",
       "AAAAAHZpZGUAAAAAAAAAAAAAAABWaWRlb0hhbmRsZXIAAAACI21pbmYAAAAUdm1oZAAAAAEAAAAA\n",
       "AAAAAAAAACRkaW5mAAAAHGRyZWYAAAAAAAAAAQAAAAx1cmwgAAAAAQAAAeNzdGJsAAAAs3N0c2QA\n",
       "AAAAAAAAAQAAAKNhdmMxAAAAAAAAAAEAAAAAAAAAAAAAAAAAAAAAAbABIABIAAAASAAAAAAAAAAB\n",
       "AAAAAAAAAAAAAAAAAAAAAAAAAAAAAAAAAAAAAAAAAAAAGP//AAAAMWF2Y0MBZAAV/+EAGGdkABWs\n",
       "2UGwloQAAAMABAAAAwAoPFi2WAEABmjr48siwAAAABx1dWlka2hA8l8kT8W6OaUbzwMj8wAAAAAA\n",
       "AAAYc3R0cwAAAAAAAAABAAAADgAACAAAAAAUc3RzcwAAAAAAAAABAAAAAQAAAIBjdHRzAAAAAAAA\n",
       "AA4AAAABAAAQAAAAAAEAACgAAAAAAQAAEAAAAAABAAAAAAAAAAEAAAgAAAAAAQAAKAAAAAABAAAQ\n",
       "AAAAAAEAAAAAAAAAAQAACAAAAAABAAAoAAAAAAEAABAAAAAAAQAAAAAAAAABAAAIAAAAAAEAABAA\n",
       "AAAAHHN0c2MAAAAAAAAAAQAAAAEAAAAOAAAAAQAAAExzdHN6AAAAAAAAAAAAAAAOAAAW0QAABOEA\n",
       "AAHzAAABegAAAXUAAALqAAABygAAAUoAAAFjAAAB7QAAAc4AAAGfAAABtwAAAbcAAAAUc3RjbwAA\n",
       "AAAAAAABAAAALAAAAGJ1ZHRhAAAAWm1ldGEAAAAAAAAAIWhkbHIAAAAAAAAAAG1kaXJhcHBsAAAA\n",
       "AAAAAAAAAAAALWlsc3QAAAAlqXRvbwAAAB1kYXRhAAAAAQAAAABMYXZmNTcuNTYuMTAx\n",
       "\">\n",
       "  Your browser does not support the video tag.\n",
       "</video>"
      ],
      "text/plain": [
       "<IPython.core.display.HTML object>"
      ]
     },
     "execution_count": 82,
     "metadata": {},
     "output_type": "execute_result"
    },
    {
     "data": {
      "image/png": "[encoded data removed]",
      "text/plain": [
       "<Figure size 432x288 with 1 Axes>"
      ]
     },
     "metadata": {},
     "output_type": "display_data"
    }
   ],
   "source": [
    "import matplotlib.pyplot as plt\n",
    "import numpy as np\n",
    "import matplotlib.animation as animation\n",
    "from IPython.display import HTML\n",
    "\n",
    "def main(res):\n",
    "    numframes = res.shape[0]\n",
    "    color_data = [conv_dict[i] for i in y_truth]\n",
    "    xy_data = res\n",
    "\n",
    "    fig = plt.figure()\n",
    "    scat = plt.scatter(res[0,:,0], res[0,:,1], c=color_data, s=100)\n",
    "\n",
    "    ani = animation.FuncAnimation(fig, update_plot, frames=range(numframes),\n",
    "                                  fargs=(scat, xy_data))\n",
    "\n",
    "    return(ani)\n",
    "\n",
    "def update_plot(i, scat, xy):\n",
    "    scat.set_offsets(xy[i])\n",
    "    return scat,\n",
    "\n",
    "ani = main(res = res)\n",
    "HTML(ani.to_html5_video())"
   ]
  },
  {
   "cell_type": "code",
   "execution_count": 84,
   "metadata": {},
   "outputs": [
    {
     "data": {
      "text/plain": [
       "14"
      ]
     },
     "execution_count": 84,
     "metadata": {},
     "output_type": "execute_result"
    }
   ],
   "source": [
    "from testing import centroid\n",
    "from testing import knn_test\n",
    "#centroid(image_vectors['Annelida'])\n",
    "knn_test(model, \"validate\", \"test\", k=5)\n"
   ]
  }
 ],
 "metadata": {
  "kernelspec": {
   "display_name": "Python 3",
   "language": "python",
   "name": "python3"
  },
  "language_info": {
   "codemirror_mode": {
    "name": "ipython",
    "version": 3
   },
   "file_extension": ".py",
   "mimetype": "text/x-python",
   "name": "python",
   "nbconvert_exporter": "python",
   "pygments_lexer": "ipython3",
   "version": "3.5.3"
  }
 },
 "nbformat": 4,
 "nbformat_minor": 2
}
